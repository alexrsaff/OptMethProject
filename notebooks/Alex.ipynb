{
 "cells": [
  {
   "cell_type": "markdown",
   "id": "3237f210",
   "metadata": {},
   "source": [
    "# Load Packages"
   ]
  },
  {
   "cell_type": "code",
   "execution_count": 33,
   "id": "0f59c5c6",
   "metadata": {},
   "outputs": [
    {
     "name": "stderr",
     "output_type": "stream",
     "text": [
      "\u001b[32m\u001b[1m   Resolving\u001b[22m\u001b[39m package versions...\n",
      "\u001b[32m\u001b[1m  No Changes\u001b[22m\u001b[39m to `C:\\Users\\Alexr\\.julia\\environments\\v1.6\\Project.toml`\n",
      "\u001b[32m\u001b[1m  No Changes\u001b[22m\u001b[39m to `C:\\Users\\Alexr\\.julia\\environments\\v1.6\\Manifest.toml`\n"
     ]
    },
    {
     "data": {
      "text/plain": [
       "\"Initialization done! All set :-)\""
      ]
     },
     "metadata": {},
     "output_type": "display_data"
    }
   ],
   "source": [
    "#Using smth means: pre-compile and load smth as a package.\n",
    "using Pkg;\n",
    "#Set the Gurobi path\n",
    "ENV[\"GUROBI_HOME\"] = \"/Library/gurobi912/macos64/\"\n",
    "#For first timers (comment after): compile Gurobi with the given path\n",
    "#Pkg.build(\"Gurobi\")\n",
    "#Add the packages that may not be installed.\n",
    "Pkg.add([\"Latexify\", \"Polyhedra\", \"Plots\", \"Makie\", \"CDDLib\", \"JuMP\", \"Gurobi\", \"AbstractPlotting\", \"JLD\", \"HDF5\"])\n",
    "#Load the packages\n",
    "using JuMP, Latexify, Gurobi, LinearAlgebra, Polyhedra, CDDLib, Plots, SparseArrays, Makie, AbstractPlotting, JLD, HDF5\n",
    "\n",
    "display(\"Initialization done! All set :-)\")"
   ]
  },
  {
   "cell_type": "markdown",
   "id": "50715750",
   "metadata": {},
   "source": [
    "# Load Data"
   ]
  },
  {
   "cell_type": "code",
   "execution_count": 34,
   "id": "e4e0386b",
   "metadata": {},
   "outputs": [
    {
     "data": {
      "text/plain": [
       "get_data (generic function with 1 method)"
      ]
     },
     "execution_count": 34,
     "metadata": {},
     "output_type": "execute_result"
    }
   ],
   "source": [
    "function get_data(instance)\n",
    "    if (instance==1)\n",
    "        data = load(\"../data/X1-3.jld\")[\"X\"]\n",
    "    elseif(instance==2)\n",
    "        data = load(\"../data/X2-2.jld\")[\"X\"]\n",
    "    else\n",
    "        data = load(\"../data/X3-2.jld\")[\"X\"]\n",
    "    end\n",
    "    return data\n",
    "end"
   ]
  },
  {
   "cell_type": "markdown",
   "id": "0ab0452e",
   "metadata": {},
   "source": [
    "# Create Gurobi Problem"
   ]
  },
  {
   "cell_type": "code",
   "execution_count": 35,
   "id": "b7206d17",
   "metadata": {},
   "outputs": [
    {
     "data": {
      "text/plain": [
       "get_new_model (generic function with 1 method)"
      ]
     },
     "execution_count": 35,
     "metadata": {},
     "output_type": "execute_result"
    }
   ],
   "source": [
    "function get_new_model() \n",
    "    return Model(Gurobi.Optimizer)\n",
    "end"
   ]
  },
  {
   "cell_type": "markdown",
   "id": "192adb5e",
   "metadata": {},
   "source": [
    "# Calculate Distance Matrix"
   ]
  },
  {
   "cell_type": "code",
   "execution_count": 36,
   "id": "ca5688d7",
   "metadata": {},
   "outputs": [
    {
     "data": {
      "text/plain": [
       "get_dist_matrix (generic function with 1 method)"
      ]
     },
     "execution_count": 36,
     "metadata": {},
     "output_type": "execute_result"
    }
   ],
   "source": [
    "function get_dist_matrix(data)\n",
    "    k = Array{Float64}(undef, size(data,1), size(data,1))\n",
    "    for i = 1:size(data,1)\n",
    "        for j = 1:size(data,1)\n",
    "            k[i,j] = sqrt((data[i,1]-data[j,1])^2 + (data[i,2]-data[j,2])^2)\n",
    "        end\n",
    "    end\n",
    "    return k\n",
    "end"
   ]
  },
  {
   "cell_type": "markdown",
   "id": "d19ff98e",
   "metadata": {},
   "source": [
    "# Create Constraints"
   ]
  },
  {
   "cell_type": "code",
   "execution_count": 37,
   "id": "1725391f",
   "metadata": {},
   "outputs": [
    {
     "data": {
      "text/plain": [
       "get_constraints (generic function with 1 method)"
      ]
     },
     "execution_count": 37,
     "metadata": {},
     "output_type": "execute_result"
    }
   ],
   "source": [
    "function get_constraints(data, instance)\n",
    "    if (instance == 1)\n",
    "        n_min = 2\n",
    "        n_max = 8\n",
    "        d_max = 10\n",
    "    else\n",
    "        n_min = 4\n",
    "        n_max = 6\n",
    "        d_max = 9\n",
    "    end    \n",
    "    max_clients = Int(size(data,1))\n",
    "    max_depots = Int(ceil(max_clients/n_min))\n",
    "    return (max_clients, n_max, n_min, d_max, max_depots)\n",
    "end"
   ]
  },
  {
   "cell_type": "markdown",
   "id": "45189bd4",
   "metadata": {},
   "source": [
    "# Create y"
   ]
  },
  {
   "cell_type": "code",
   "execution_count": 38,
   "id": "527d86fd",
   "metadata": {},
   "outputs": [
    {
     "data": {
      "text/plain": [
       "add_y (generic function with 1 method)"
      ]
     },
     "execution_count": 38,
     "metadata": {},
     "output_type": "execute_result"
    }
   ],
   "source": [
    "function add_y(model, max_depots)\n",
    "    return @variable(model, y[1:max_depots], base_name = \"y\", binary=true)\n",
    "end"
   ]
  },
  {
   "cell_type": "markdown",
   "id": "52406b53",
   "metadata": {},
   "source": [
    "# Create x"
   ]
  },
  {
   "cell_type": "code",
   "execution_count": 39,
   "id": "d46bb1b0",
   "metadata": {},
   "outputs": [
    {
     "data": {
      "text/plain": [
       "add_x (generic function with 1 method)"
      ]
     },
     "execution_count": 39,
     "metadata": {},
     "output_type": "execute_result"
    }
   ],
   "source": [
    "function add_x(model, max_depots, max_clients)\n",
    "    return @variable(model, x[1:max_clients,1:max_depots], base_name = \"x\", binary=true)\n",
    "end"
   ]
  },
  {
   "cell_type": "markdown",
   "id": "d6f68ffb",
   "metadata": {},
   "source": [
    "# Add objective"
   ]
  },
  {
   "cell_type": "code",
   "execution_count": 40,
   "id": "ac37fafc",
   "metadata": {},
   "outputs": [
    {
     "data": {
      "text/plain": [
       "add_objective (generic function with 2 methods)"
      ]
     },
     "execution_count": 40,
     "metadata": {},
     "output_type": "execute_result"
    }
   ],
   "source": [
    "function add_objective(package)\n",
    "    return @objective(model, Min, sum(y))\n",
    "end"
   ]
  },
  {
   "cell_type": "markdown",
   "id": "feef0620",
   "metadata": {},
   "source": [
    "# Add Constraint 1\n",
    "$$\\sum_{c=1}^nx_{cd}\\leq n_{max}*y_d\\forall d$$"
   ]
  },
  {
   "cell_type": "code",
   "execution_count": 46,
   "id": "bef9af3a",
   "metadata": {
    "scrolled": true
   },
   "outputs": [
    {
     "data": {
      "text/plain": [
       "add_constraint_1 (generic function with 4 methods)"
      ]
     },
     "execution_count": 46,
     "metadata": {},
     "output_type": "execute_result"
    }
   ],
   "source": [
    "function add_constraint_1(model, max_clients, n_max, n_min, d_max, max_depots, k, x, y)\n",
    "    for d in 1:max_depots\n",
    "        constraint_expr = @expression(model, 0)\n",
    "        for c in 1:max_clients\n",
    "            constraint_expr += x[c,d]\n",
    "        end\n",
    "        @constraint(model, constraint_expr<=n_max*y[d])\n",
    "    end\n",
    "end"
   ]
  },
  {
   "cell_type": "markdown",
   "id": "4754c22e",
   "metadata": {},
   "source": [
    "# Add constraint 2\n",
    "$$\\sum_{c=1}^nx_{cd}\\geq n_{min}*y_d\\forall d $$"
   ]
  },
  {
   "cell_type": "code",
   "execution_count": 42,
   "id": "a249f6b3",
   "metadata": {
    "scrolled": true
   },
   "outputs": [
    {
     "data": {
      "text/plain": [
       "add_constraint_2 (generic function with 3 methods)"
      ]
     },
     "execution_count": 42,
     "metadata": {},
     "output_type": "execute_result"
    }
   ],
   "source": [
    "function add_constraint_2(model, max_clients, n_max, n_min, d_max, max_depots, k, x, y)\n",
    "    for d in 1:max_depots\n",
    "        constraint_expr = @expression(model, 0)\n",
    "        for c in 1:max_clients\n",
    "            constraint_expr += x[c,d]\n",
    "        end\n",
    "        @constraint(model, constraint_expr>=n_min*y[d])\n",
    "    end\n",
    "end"
   ]
  },
  {
   "cell_type": "markdown",
   "id": "bec45598",
   "metadata": {},
   "source": [
    "# Constraint 3\n",
    "$$\\sum_{d=1}^nx_{cd}= 1\\forall c$$"
   ]
  },
  {
   "cell_type": "code",
   "execution_count": 43,
   "id": "0f98a2eb",
   "metadata": {},
   "outputs": [
    {
     "data": {
      "text/plain": [
       "add_constraint_3 (generic function with 3 methods)"
      ]
     },
     "execution_count": 43,
     "metadata": {},
     "output_type": "execute_result"
    }
   ],
   "source": [
    "function add_constraint_3(model, max_clients, n_max, n_min, d_max, max_depots, k, x, y)\n",
    "    for c in 1:max_clients\n",
    "        constraint_expr = @expression(model, 0)\n",
    "        for d in 1:max_depots\n",
    "            constraint_expr += x[c,d]\n",
    "        end\n",
    "        @constraint(model, constraint_expr==1)\n",
    "    end\n",
    "end"
   ]
  },
  {
   "cell_type": "markdown",
   "id": "9db85936",
   "metadata": {},
   "source": [
    "# Constraint 4\n",
    "$$\\sum_{c_2=1}^nk_{{c_1}{c_2}}*x_{c_1d}*x_{c_2d}\\leq d_{max}\\forall c_1 \\in C, \\forall d \\in D$$"
   ]
  },
  {
   "cell_type": "code",
   "execution_count": 44,
   "id": "95143a7d",
   "metadata": {},
   "outputs": [
    {
     "data": {
      "text/plain": [
       "add_constraint_4 (generic function with 3 methods)"
      ]
     },
     "execution_count": 44,
     "metadata": {},
     "output_type": "execute_result"
    }
   ],
   "source": [
    "function add_constraint_4(model, max_clients, n_max, n_min, d_max, max_depots, k, x, y)\n",
    "    for d in 1:max_depots\n",
    "        for c1 in 1:max_clients\n",
    "            constraint_expr = @expression(model, 0)\n",
    "            for c2 in 1:c1-1\n",
    "                constraint_expr += k[c1,c2]*x[c1,d]*x[c2,d]\n",
    "            end\n",
    "            @constraint(model, constraint_expr<=d_max)\n",
    "        end\n",
    "    end\n",
    "end"
   ]
  },
  {
   "cell_type": "markdown",
   "id": "670c4950",
   "metadata": {},
   "source": [
    "# Solve\n",
    "## Instance 1"
   ]
  },
  {
   "cell_type": "code",
   "execution_count": 47,
   "id": "98eb0fe1",
   "metadata": {
    "scrolled": true
   },
   "outputs": [
    {
     "name": "stdout",
     "output_type": "stream",
     "text": [
      "Academic license - for non-commercial use only\r\n"
     ]
    }
   ],
   "source": [
    "data_1 = get_data(1)\n",
    "dist_matrix_1 = get_dist_matrix(data_1)\n",
    "max_clients_1, n_max_1, n_min_1, d_max_1, max_depots_1 = get_constraints(data_1, 1)\n",
    "model_1 = get_new_model()\n",
    "x_1 = add_x(model_1, max_depots_1, max_clients_1)\n",
    "y_1 = add_y(model_1, max_depots_1)\n",
    "add_objective(model_1, y_1)\n",
    "add_constraint_1(model_1, max_clients_1, n_max_1, n_min_1, d_max_1, max_depots_1, dist_matrix_1, x_1, y_1)\n",
    "add_constraint_2(model_1, max_clients_1, n_max_1, n_min_1, d_max_1, max_depots_1, dist_matrix_1, x_1, y_1)\n",
    "add_constraint_3(model_1, max_clients_1, n_max_1, n_min_1, d_max_1, max_depots_1, dist_matrix_1, x_1, y_1)\n",
    "add_constraint_4(model_1, max_clients_1, n_max_1, n_min_1, d_max_1, max_depots_1, dist_matrix_1, x_1, y_1)\n",
    "optimize!(model_1)"
   ]
  },
  {
   "cell_type": "markdown",
   "id": "6fb7281d",
   "metadata": {},
   "source": [
    "## Instance 2"
   ]
  },
  {
   "cell_type": "code",
   "execution_count": null,
   "id": "292a5047",
   "metadata": {},
   "outputs": [],
   "source": [
    "data_2 = get_data(2)\n",
    "dist_matrix_2 = get_dist_matrix(data_2)\n",
    "max_clients_2, n_max_2, n_min_2, d_max_2, max_depots_2 = get_constraints(data_2, 2)\n",
    "model_2 = get_new_model()\n",
    "x_2 = add_x(model_2, max_depots_2, max_clients_2)\n",
    "y_2 = add_y(model_2, max_depots_2)\n",
    "add_objective(model_2, y_2)\n",
    "add_constraint_1(model_2, max_clients_2, n_max_2, n_min_2, d_max_2, max_depots_2, dist_matrix_2, x_2, y_2)\n",
    "add_constraint_2(model_2, max_clients_2, n_max_2, n_min_2, d_max_2, max_depots_2, dist_matrix_2, x_2, y_2)\n",
    "add_constraint_3(model_2, max_clients_2, n_max_2, n_min_2, d_max_2, max_depots_2, dist_matrix_2, x_2, y_2)\n",
    "add_constraint_4(model_2, max_clients_2, n_max_2, n_min_2, d_max_2, max_depots_2, dist_matrix_2, x_2, y_2)\n",
    "optimize!(model_2)"
   ]
  },
  {
   "cell_type": "markdown",
   "id": "18747098",
   "metadata": {},
   "source": [
    "## Instance 3"
   ]
  },
  {
   "cell_type": "code",
   "execution_count": null,
   "id": "24f84b77",
   "metadata": {},
   "outputs": [],
   "source": [
    "data_3 = get_data(3)\n",
    "dist_matrix_3 = get_dist_matrix(data_3)\n",
    "max_clients_3, n_max_3, n_min_3, d_max_3, max_depots_3 = get_constraints(data_3, 3)\n",
    "model_3 = get_new_model()\n",
    "x_3 = add_x(model_3, max_depots_3, max_clients_3)\n",
    "y_3 = add_y(model_3, max_depots_3)\n",
    "add_objective(model_3, y_3)\n",
    "add_constraint_1(model_3, max_clients_3, n_max_3, n_min_3, d_max_3, max_depots_3, dist_matrix_3, x_3, y_3)\n",
    "add_constraint_2(model_3, max_clients_3, n_max_3, n_min_3, d_max_3, max_depots_3, dist_matrix_3, x_3, y_3)\n",
    "add_constraint_3(model_3, max_clients_3, n_max_3, n_min_3, d_max_3, max_depots_3, dist_matrix_3, x_3, y_3)\n",
    "add_constraint_4(model_3, max_clients_3, n_max_3, n_min_3, d_max_3, max_depots_3, dist_matrix_3, x_3, y_3)\n",
    "optimize!(model_3)"
   ]
  }
 ],
 "metadata": {
  "kernelspec": {
   "display_name": "Julia 1.6.3",
   "language": "julia",
   "name": "julia-1.6"
  },
  "language_info": {
   "file_extension": ".jl",
   "mimetype": "application/julia",
   "name": "julia",
   "version": "1.6.3"
  }
 },
 "nbformat": 4,
 "nbformat_minor": 5
}
