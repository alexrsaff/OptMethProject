{
 "cells": [
  {
   "cell_type": "markdown",
   "metadata": {},
   "source": [
    "# Load Packages"
   ]
  },
  {
   "cell_type": "code",
   "execution_count": 1,
   "metadata": {
    "scrolled": true
   },
   "outputs": [
    {
     "name": "stderr",
     "output_type": "stream",
     "text": [
      "\u001b[32m\u001b[1m    Updating\u001b[22m\u001b[39m registry at `C:\\Users\\Alexr\\.julia\\registries\\General`\n",
      "\u001b[32m\u001b[1m    Updating\u001b[22m\u001b[39m git-repo `https://github.com/JuliaRegistries/General.git`\n",
      "\u001b[32m\u001b[1m   Resolving\u001b[22m\u001b[39m package versions...\n",
      "\u001b[32m\u001b[1m  No Changes\u001b[22m\u001b[39m to `C:\\Users\\Alexr\\.julia\\environments\\v1.6\\Project.toml`\n",
      "\u001b[32m\u001b[1m  No Changes\u001b[22m\u001b[39m to `C:\\Users\\Alexr\\.julia\\environments\\v1.6\\Manifest.toml`\n"
     ]
    },
    {
     "data": {
      "text/plain": [
       "\"Initialization done! All set :-)\""
      ]
     },
     "metadata": {},
     "output_type": "display_data"
    },
    {
     "name": "stderr",
     "output_type": "stream",
     "text": [
      "┌ Warning: Everything from AbstractPlotting.jl got moved to Makie.jl. \n",
      "│ Have a look at the README for information on how to upgrade: \n",
      "│ https://github.com/JuliaPlots/AbstractPlotting.jl\n",
      "└ @ AbstractPlotting C:\\Users\\Alexr\\.julia\\packages\\AbstractPlotting\\2A5iv\\src\\AbstractPlotting.jl:261\n"
     ]
    }
   ],
   "source": [
    "#Using smth means: pre-compile and load smth as a package.\n",
    "using Pkg;\n",
    "#Set the Gurobi path\n",
    "ENV[\"GUROBI_HOME\"] = \"C:\\\\Program Files\\\\gurobi912\\\\win64\\\\\"\n",
    "#For first timers (comment after): compile Gurobi with the given path\n",
    "# Pkg.build(\"Gurobi\")\n",
    "#Add the packages that may not be installed.\n",
    "Pkg.add([\"Latexify\", \"Polyhedra\", \"Makie\", \"CDDLib\", \"JuMP\", \"Gurobi\", \"AbstractPlotting\", \"JLD\", \"HDF5\"])\n",
    "#Load the packages\n",
    "using JuMP, Latexify, Gurobi, LinearAlgebra, Polyhedra, CDDLib, SparseArrays, Makie, AbstractPlotting, JLD, HDF5\n",
    "\n",
    "display(\"Initialization done! All set :-)\")"
   ]
  },
  {
   "cell_type": "markdown",
   "metadata": {},
   "source": [
    "# Load Data"
   ]
  },
  {
   "cell_type": "code",
   "execution_count": 2,
   "metadata": {},
   "outputs": [
    {
     "data": {
      "text/plain": [
       "get_data (generic function with 1 method)"
      ]
     },
     "execution_count": 2,
     "metadata": {},
     "output_type": "execute_result"
    }
   ],
   "source": [
    "function get_data(instance)\n",
    "    if (instance==1)\n",
    "        data = load(\"../data/X1-3.jld\")[\"X\"]\n",
    "    elseif(instance==2)\n",
    "        data = load(\"../data/X2-2.jld\")[\"X\"]\n",
    "    else\n",
    "        data = load(\"../data/X3-2.jld\")[\"X\"]\n",
    "    end\n",
    "    return data\n",
    "end"
   ]
  },
  {
   "cell_type": "markdown",
   "metadata": {},
   "source": [
    "# Create Gurobi Problem"
   ]
  },
  {
   "cell_type": "code",
   "execution_count": 3,
   "metadata": {},
   "outputs": [
    {
     "data": {
      "text/plain": [
       "get_new_model (generic function with 1 method)"
      ]
     },
     "execution_count": 3,
     "metadata": {},
     "output_type": "execute_result"
    }
   ],
   "source": [
    "function get_new_model() \n",
    "    return Model(Gurobi.Optimizer)\n",
    "end"
   ]
  },
  {
   "cell_type": "markdown",
   "metadata": {},
   "source": [
    "# Calculate Distance Matrix"
   ]
  },
  {
   "cell_type": "code",
   "execution_count": 4,
   "metadata": {},
   "outputs": [
    {
     "data": {
      "text/plain": [
       "get_dist_matrix (generic function with 1 method)"
      ]
     },
     "execution_count": 4,
     "metadata": {},
     "output_type": "execute_result"
    }
   ],
   "source": [
    "function get_dist_matrix(data)\n",
    "    k = Array{Float64}(undef, size(data,1), size(data,1))\n",
    "    for i = 1:size(data,1)\n",
    "        for j = 1:size(data,1)\n",
    "            k[i,j] = sqrt((data[i,1]-data[j,1])^2 + (data[i,2]-data[j,2])^2)\n",
    "        end\n",
    "    end\n",
    "    return k\n",
    "end"
   ]
  },
  {
   "cell_type": "markdown",
   "metadata": {},
   "source": [
    "# Create Constraints"
   ]
  },
  {
   "cell_type": "code",
   "execution_count": 5,
   "metadata": {},
   "outputs": [
    {
     "data": {
      "text/plain": [
       "get_constraints (generic function with 1 method)"
      ]
     },
     "execution_count": 5,
     "metadata": {},
     "output_type": "execute_result"
    }
   ],
   "source": [
    "function get_constraints(data, instance)\n",
    "    if (instance == 1)\n",
    "        n_min = 2\n",
    "        n_max = 8\n",
    "        d_max = 10\n",
    "    else\n",
    "        n_min = 4\n",
    "        n_max = 6\n",
    "        d_max = 9\n",
    "    end    \n",
    "    max_clients = Int(size(data,1))\n",
    "    max_depots = Int(ceil(max_clients/n_min))\n",
    "    return (max_clients, n_max, n_min, d_max, max_depots)\n",
    "end"
   ]
  },
  {
   "cell_type": "markdown",
   "metadata": {},
   "source": [
    "# Define Symbolic Constraint Variables\n",
    "$$C = \\text{number of clients}$$\n",
    "$$D = \\text{maximum number of depots} = \\frac{C}{n_{min}}$$\n",
    "$$x_{cd} = \\begin{cases}      1, & \\text{if depot }d \\text{ services client }c\\ \\\\\n",
    "      0, & \\text{otherwise}\n",
    "    \\end{cases} \\\\\n",
    "y_{d} = \\begin{cases}      1, & \\text{if depot } d \\text{ exists} \\\\\n",
    "      0, & \\text{otherwise}\n",
    "    \\end{cases} $$\n",
    "$$k_{c_1c_2} = \\text{Euclidean distance from client } c_1 \\text{ to client }c_2 $$"
   ]
  },
  {
   "cell_type": "markdown",
   "metadata": {},
   "source": [
    "# Create y"
   ]
  },
  {
   "cell_type": "code",
   "execution_count": 6,
   "metadata": {},
   "outputs": [
    {
     "data": {
      "text/plain": [
       "add_y (generic function with 1 method)"
      ]
     },
     "execution_count": 6,
     "metadata": {},
     "output_type": "execute_result"
    }
   ],
   "source": [
    "function add_y(model, max_depots)\n",
    "    return @variable(model, y[1:max_depots], base_name = \"y\", binary=true)\n",
    "end"
   ]
  },
  {
   "cell_type": "markdown",
   "metadata": {},
   "source": [
    "# Create x"
   ]
  },
  {
   "cell_type": "code",
   "execution_count": 7,
   "metadata": {},
   "outputs": [
    {
     "data": {
      "text/plain": [
       "add_x (generic function with 1 method)"
      ]
     },
     "execution_count": 7,
     "metadata": {},
     "output_type": "execute_result"
    }
   ],
   "source": [
    "function add_x(model, max_depots, max_clients)\n",
    "    return @variable(model, x[1:max_clients,1:max_depots], base_name = \"x\", binary=true)\n",
    "end"
   ]
  },
  {
   "cell_type": "markdown",
   "metadata": {},
   "source": [
    "# Add objective\n",
    "Minimise the number of depots:\n",
    "$$ min\\left(\\sum_{d=1}^{D}y_d\\right) $$"
   ]
  },
  {
   "cell_type": "code",
   "execution_count": 8,
   "metadata": {},
   "outputs": [
    {
     "data": {
      "text/plain": [
       "add_objective (generic function with 1 method)"
      ]
     },
     "execution_count": 8,
     "metadata": {},
     "output_type": "execute_result"
    }
   ],
   "source": [
    "function add_objective(model, y)\n",
    "    return @objective(model, Min, sum(y))\n",
    "end"
   ]
  },
  {
   "cell_type": "markdown",
   "metadata": {},
   "source": [
    "# Add Constraint 1\n",
    "If a depot exists, ensure that it serves no more than $n_{max}$ clients:\n",
    "$$\\sum_{c=1}^Cx_{cd}\\leq n_{max}*y_d \\text{ }\\forall d\\in 1...D$$"
   ]
  },
  {
   "cell_type": "code",
   "execution_count": 9,
   "metadata": {
    "scrolled": true
   },
   "outputs": [
    {
     "data": {
      "text/plain": [
       "add_constraint_1 (generic function with 1 method)"
      ]
     },
     "execution_count": 9,
     "metadata": {},
     "output_type": "execute_result"
    }
   ],
   "source": [
    "function add_constraint_1(model, max_clients, n_max, n_min, d_max, max_depots, k, x, y)\n",
    "    for d in 1:max_depots\n",
    "        constraint_expr = @expression(model, 0)\n",
    "        for c in 1:max_clients\n",
    "            constraint_expr += x[c,d]\n",
    "        end\n",
    "        @constraint(model, constraint_expr<=n_max*y[d])\n",
    "    end\n",
    "end"
   ]
  },
  {
   "cell_type": "markdown",
   "metadata": {},
   "source": [
    "# Add constraint 2\n",
    "If a depot exists, ensure that it serves no less than $n_{min}$ clients:\n",
    "$$\\sum_{c=1}^Cx_{cd}\\geq n_{min}*y_d\\text{ }\\forall d \\in 1...D$$"
   ]
  },
  {
   "cell_type": "code",
   "execution_count": 10,
   "metadata": {
    "scrolled": true
   },
   "outputs": [
    {
     "data": {
      "text/plain": [
       "add_constraint_2 (generic function with 1 method)"
      ]
     },
     "execution_count": 10,
     "metadata": {},
     "output_type": "execute_result"
    }
   ],
   "source": [
    "function add_constraint_2(model, max_clients, n_max, n_min, d_max, max_depots, k, x, y)\n",
    "    for d in 1:max_depots\n",
    "        constraint_expr = @expression(model, 0)\n",
    "        for c in 1:max_clients\n",
    "            constraint_expr += x[c,d]\n",
    "        end\n",
    "        @constraint(model, constraint_expr>=n_min*y[d])\n",
    "    end\n",
    "end"
   ]
  },
  {
   "cell_type": "markdown",
   "metadata": {},
   "source": [
    "# Constraint 3\n",
    "Ensure that every client is served by exactly 1 depot:\n",
    "$$\\sum_{d=1}^Dx_{cd}= 1\\text{ }\\forall c \\in 1...C$$"
   ]
  },
  {
   "cell_type": "code",
   "execution_count": 11,
   "metadata": {},
   "outputs": [
    {
     "data": {
      "text/plain": [
       "add_constraint_3 (generic function with 1 method)"
      ]
     },
     "execution_count": 11,
     "metadata": {},
     "output_type": "execute_result"
    }
   ],
   "source": [
    "function add_constraint_3(model, max_clients, n_max, n_min, d_max, max_depots, k, x, y)\n",
    "    for c in 1:max_clients\n",
    "        constraint_expr = @expression(model, 0)\n",
    "        for d in 1:max_depots\n",
    "            constraint_expr += x[c,d]\n",
    "        end\n",
    "        @constraint(model, constraint_expr==1)\n",
    "    end\n",
    "end"
   ]
  },
  {
   "cell_type": "markdown",
   "metadata": {},
   "source": [
    "# Constraint 4\n",
    "Ensure that the euclidean distance between any pair of clients served by the same depot is not larger than $d_{max}$:\n",
    "$$k_{{c_1}{c_2}}*x_{c_1d}*x_{c_2d}\\leq d_{max}\\text{ }\\forall c_1\\in 1...C,\\text{ }\\forall c_2 \\in 1...C,\\text{ } \\forall d \\in 1...D$$\n",
    "In practice, this can made more efficient due to the fact that the euclidean distance from point $c_i \\text{ to } c_j$ is the same as from $c_j \\text{ to } c_i$ and the distance from $c_i \\text{ to } c_i = 0$. This optimisation is made in the code below."
   ]
  },
  {
   "cell_type": "code",
   "execution_count": 12,
   "metadata": {},
   "outputs": [
    {
     "data": {
      "text/plain": [
       "add_constraint_4 (generic function with 1 method)"
      ]
     },
     "execution_count": 12,
     "metadata": {},
     "output_type": "execute_result"
    }
   ],
   "source": [
    "function add_constraint_4(model, max_clients, n_max, n_min, d_max, max_depots, k, x, y)\n",
    "    for d in 1:max_depots\n",
    "        for c1 in 1:max_clients\n",
    "            for c2 in 1:c1-1\n",
    "                @constraint(model, k[c1,c2]*x[c1,d]*x[c2,d]<=d_max)\n",
    "            end\n",
    "        end\n",
    "    end\n",
    "end"
   ]
  },
  {
   "cell_type": "markdown",
   "metadata": {},
   "source": [
    "# Solve\n",
    "## Instance 1"
   ]
  },
  {
   "cell_type": "code",
   "execution_count": 13,
   "metadata": {
    "scrolled": false
   },
   "outputs": [
    {
     "name": "stdout",
     "output_type": "stream",
     "text": [
      "Academic license - for non-commercial use only - expires 2022-01-25\r\n",
      "Gurobi Optimizer version 9.1.2 build v9.1.2rc0 (win64)\r\n",
      "Thread count: 8 physical cores, 16 logical processors, using up to 16 threads\r\n",
      "Optimize a model with 51 rows, 338 columns and 1001 nonzeros\r\n",
      "Model fingerprint: 0xe8a5375f\r\n",
      "Model has 3900 quadratic constraints\r\n",
      "Variable types: 0 continuous, 338 integer (338 binary)\r\n",
      "Coefficient statistics:\r\n",
      "  Matrix range     [1e+00, 8e+00]\r\n",
      "  QMatrix range    [2e-01, 4e+01]\r\n",
      "  Objective range  [1e+00, 1e+00]\r\n",
      "  Bounds range     [0e+00, 0e+00]\r\n",
      "  RHS range        [1e+00, 1e+00]\r\n",
      "  QRHS range       [1e+01, 1e+01]\r\n",
      "Presolve time: 0.07s\r\n",
      "Presolved: 4627 rows, 2626 columns, 10153 nonzeros\r\n",
      "Variable types: 0 continuous, 2626 integer (2626 binary)\r\n",
      "Found heuristic solution: objective 12.0000000\r\n",
      "Found heuristic solution: objective 11.0000000\r\n",
      "\r\n",
      "Root relaxation: objective 4.000000e+00, 1094 iterations, 0.04 seconds\r\n",
      "\r\n",
      "    Nodes    |    Current Node    |     Objective Bounds      |     Work\r\n",
      " Expl Unexpl |  Obj  Depth IntInf | Incumbent    BestBd   Gap | It/Node Time\r\n",
      "\r\n",
      "H    0     0                       4.0000000    0.00000   100%     -    0s\r\n",
      "     0     0          -    0         4.00000    4.00000  0.00%     -    0s\r\n",
      "\r\n",
      "Explored 1 nodes (1241 simplex iterations) in 0.14 seconds\r\n",
      "Thread count was 16 (of 16 available processors)\r\n",
      "\r\n",
      "Solution count 3: 4 11 12 \r\n",
      "\r\n",
      "Optimal solution found (tolerance 1.00e-04)\r\n",
      "Best objective 4.000000000000e+00, best bound 4.000000000000e+00, gap 0.0000%\r\n",
      "\r\n",
      "User-callback calls 124, time in user-callback 0.00 sec\r\n"
     ]
    }
   ],
   "source": [
    "data_1 = get_data(1)\n",
    "dist_matrix_1 = get_dist_matrix(data_1)\n",
    "max_clients_1, n_max_1, n_min_1, d_max_1, max_depots_1 = get_constraints(data_1, 1)\n",
    "model_1 = get_new_model()\n",
    "x_1 = add_x(model_1, max_depots_1, max_clients_1)\n",
    "y_1 = add_y(model_1, max_depots_1)\n",
    "add_objective(model_1, y_1)\n",
    "add_constraint_1(model_1, max_clients_1, n_max_1, n_min_1, d_max_1, max_depots_1, dist_matrix_1, x_1, y_1)\n",
    "add_constraint_2(model_1, max_clients_1, n_max_1, n_min_1, d_max_1, max_depots_1, dist_matrix_1, x_1, y_1)\n",
    "add_constraint_3(model_1, max_clients_1, n_max_1, n_min_1, d_max_1, max_depots_1, dist_matrix_1, x_1, y_1)\n",
    "add_constraint_4(model_1, max_clients_1, n_max_1, n_min_1, d_max_1, max_depots_1, dist_matrix_1, x_1, y_1)\n",
    "optimize!(model_1)"
   ]
  },
  {
   "cell_type": "markdown",
   "metadata": {},
   "source": [
    "## Instance 2"
   ]
  },
  {
   "cell_type": "code",
   "execution_count": 14,
   "metadata": {},
   "outputs": [
    {
     "name": "stdout",
     "output_type": "stream",
     "text": [
      "Academic license - for non-commercial use only - expires 2022-01-25\r\n",
      "Gurobi Optimizer version 9.1.2 build v9.1.2rc0 (win64)\r\n",
      "Thread count: 8 physical cores, 16 logical processors, using up to 16 threads\r\n",
      "Optimize a model with 39 rows, 182 columns and 539 nonzeros\r\n",
      "Model fingerprint: 0x5c9a8ada\r\n",
      "Model has 2100 quadratic constraints\r\n",
      "Variable types: 0 continuous, 182 integer (182 binary)\r\n",
      "Coefficient statistics:\r\n",
      "  Matrix range     [1e+00, 6e+00]\r\n",
      "  QMatrix range    [9e-01, 2e+01]\r\n",
      "  Objective range  [1e+00, 1e+00]\r\n",
      "  Bounds range     [0e+00, 0e+00]\r\n",
      "  RHS range        [1e+00, 1e+00]\r\n",
      "  QRHS range       [9e+00, 9e+00]\r\n",
      "Presolve time: 0.04s\r\n",
      "Presolved: 2979 rows, 1652 columns, 6419 nonzeros\r\n",
      "Variable types: 0 continuous, 1652 integer (1652 binary)\r\n",
      "Found heuristic solution: objective 6.0000000\r\n",
      "\r\n",
      "Root relaxation: objective 5.000000e+00, 329 iterations, 0.01 seconds\r\n",
      "\r\n",
      "    Nodes    |    Current Node    |     Objective Bounds      |     Work\r\n",
      " Expl Unexpl |  Obj  Depth IntInf | Incumbent    BestBd   Gap | It/Node Time\r\n",
      "\r\n",
      "*    0     0               0       5.0000000    5.00000  0.00%     -    0s\r\n",
      "\r\n",
      "Explored 1 nodes (449 simplex iterations) in 0.06 seconds\r\n",
      "Thread count was 16 (of 16 available processors)\r\n",
      "\r\n",
      "Solution count 2: 5 6 \r\n",
      "\r\n",
      "Optimal solution found (tolerance 1.00e-04)\r\n",
      "Best objective 5.000000000000e+00, best bound 5.000000000000e+00, gap 0.0000%\r\n",
      "\r\n",
      "User-callback calls 77, time in user-callback 0.00 sec\r\n"
     ]
    }
   ],
   "source": [
    "data_2 = get_data(2)\n",
    "dist_matrix_2 = get_dist_matrix(data_2)\n",
    "max_clients_2, n_max_2, n_min_2, d_max_2, max_depots_2 = get_constraints(data_2, 2)\n",
    "model_2 = get_new_model()\n",
    "x_2 = add_x(model_2, max_depots_2, max_clients_2)\n",
    "y_2 = add_y(model_2, max_depots_2)\n",
    "add_objective(model_2, y_2)\n",
    "add_constraint_1(model_2, max_clients_2, n_max_2, n_min_2, d_max_2, max_depots_2, dist_matrix_2, x_2, y_2)\n",
    "add_constraint_2(model_2, max_clients_2, n_max_2, n_min_2, d_max_2, max_depots_2, dist_matrix_2, x_2, y_2)\n",
    "add_constraint_3(model_2, max_clients_2, n_max_2, n_min_2, d_max_2, max_depots_2, dist_matrix_2, x_2, y_2)\n",
    "add_constraint_4(model_2, max_clients_2, n_max_2, n_min_2, d_max_2, max_depots_2, dist_matrix_2, x_2, y_2)\n",
    "optimize!(model_2)"
   ]
  },
  {
   "cell_type": "markdown",
   "metadata": {},
   "source": [
    "## Instance 3"
   ]
  },
  {
   "cell_type": "code",
   "execution_count": 15,
   "metadata": {},
   "outputs": [
    {
     "name": "stdout",
     "output_type": "stream",
     "text": [
      "Academic license - for non-commercial use only - expires 2022-01-25\r\n",
      "Gurobi Optimizer version 9.1.2 build v9.1.2rc0 (win64)\r\n",
      "Thread count: 8 physical cores, 16 logical processors, using up to 16 threads\r\n",
      "Optimize a model with 39 rows, 182 columns and 539 nonzeros\r\n",
      "Model fingerprint: 0xecfbc8bd\r\n",
      "Model has 2100 quadratic constraints\r\n",
      "Variable types: 0 continuous, 182 integer (182 binary)\r\n",
      "Coefficient statistics:\r\n",
      "  Matrix range     [1e+00, 6e+00]\r\n",
      "  QMatrix range    [9e-01, 3e+01]\r\n",
      "  Objective range  [1e+00, 1e+00]\r\n",
      "  Bounds range     [0e+00, 0e+00]\r\n",
      "  RHS range        [1e+00, 1e+00]\r\n",
      "  QRHS range       [9e+00, 9e+00]\r\n",
      "Presolve time: 0.04s\r\n",
      "Presolved: 3077 rows, 1701 columns, 6615 nonzeros\r\n",
      "Variable types: 0 continuous, 1701 integer (1701 binary)\r\n",
      "\r\n",
      "Explored 1 nodes (0 simplex iterations) in 0.05 seconds\r\n",
      "Thread count was 16 (of 16 available processors)\r\n",
      "\r\n",
      "Solution count 0\r\n",
      "\r\n",
      "Model is infeasible or unbounded\r\n",
      "Best objective -, best bound -, gap -\r\n",
      "\r\n",
      "User-callback calls 63, time in user-callback 0.00 sec\r\n"
     ]
    }
   ],
   "source": [
    "data_3 = get_data(3)\n",
    "dist_matrix_3 = get_dist_matrix(data_3)\n",
    "max_clients_3, n_max_3, n_min_3, d_max_3, max_depots_3 = get_constraints(data_3, 3)\n",
    "model_3 = get_new_model()\n",
    "x_3 = add_x(model_3, max_depots_3, max_clients_3)\n",
    "y_3 = add_y(model_3, max_depots_3)\n",
    "add_objective(model_3, y_3)\n",
    "add_constraint_1(model_3, max_clients_3, n_max_3, n_min_3, d_max_3, max_depots_3, dist_matrix_3, x_3, y_3)\n",
    "add_constraint_2(model_3, max_clients_3, n_max_3, n_min_3, d_max_3, max_depots_3, dist_matrix_3, x_3, y_3)\n",
    "add_constraint_3(model_3, max_clients_3, n_max_3, n_min_3, d_max_3, max_depots_3, dist_matrix_3, x_3, y_3)\n",
    "add_constraint_4(model_3, max_clients_3, n_max_3, n_min_3, d_max_3, max_depots_3, dist_matrix_3, x_3, y_3)\n",
    "optimize!(model_3)"
   ]
  }
 ],
 "metadata": {
  "kernelspec": {
   "display_name": "Julia 1.6.4",
   "language": "julia",
   "name": "julia-1.6"
  },
  "language_info": {
   "file_extension": ".jl",
   "mimetype": "application/julia",
   "name": "julia",
   "version": "1.6.4"
  }
 },
 "nbformat": 4,
 "nbformat_minor": 5
}
