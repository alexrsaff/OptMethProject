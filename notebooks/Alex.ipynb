{
 "cells": [
  {
   "cell_type": "code",
   "execution_count": 1,
   "id": "48597b24",
   "metadata": {},
   "outputs": [
    {
     "data": {
      "text/plain": [
       "3×3 Matrix{Float64}:\n",
       " 2.0  4.0  5.0\n",
       " 3.0  6.0  8.0\n",
       " 8.0  4.0  9.0"
      ]
     },
     "execution_count": 1,
     "metadata": {},
     "output_type": "execute_result"
    }
   ],
   "source": [
    "C=[2.0 4.0 5.0;\n",
    "   3.0 6.0 8.0; \n",
    "   8.0 4.0 9.0]::Matrix{Float64}"
   ]
  },
  {
   "cell_type": "code",
   "execution_count": null,
   "id": "7f4b2d77",
   "metadata": {},
   "outputs": [],
   "source": []
  }
 ],
 "metadata": {
  "kernelspec": {
   "display_name": "Julia 1.6.3",
   "language": "julia",
   "name": "julia-1.6"
  },
  "language_info": {
   "file_extension": ".jl",
   "mimetype": "application/julia",
   "name": "julia",
   "version": "1.6.3"
  }
 },
 "nbformat": 4,
 "nbformat_minor": 5
}
