{
 "cells": [
  {
   "cell_type": "markdown",
   "metadata": {},
   "source": [
    "# Load Packages"
   ]
  },
  {
   "cell_type": "code",
   "execution_count": 1,
   "metadata": {
    "scrolled": true
   },
   "outputs": [
    {
     "name": "stderr",
     "output_type": "stream",
     "text": [
      "\u001b[32m\u001b[1m    Updating\u001b[22m\u001b[39m registry at `C:\\Users\\Alexr\\.julia\\registries\\General`\n",
      "\u001b[32m\u001b[1m    Updating\u001b[22m\u001b[39m git-repo `https://github.com/JuliaRegistries/General.git`\n",
      "\u001b[32m\u001b[1m   Resolving\u001b[22m\u001b[39m package versions...\n",
      "\u001b[32m\u001b[1m  No Changes\u001b[22m\u001b[39m to `C:\\Users\\Alexr\\.julia\\environments\\v1.6\\Project.toml`\n",
      "\u001b[32m\u001b[1m  No Changes\u001b[22m\u001b[39m to `C:\\Users\\Alexr\\.julia\\environments\\v1.6\\Manifest.toml`\n"
     ]
    },
    {
     "data": {
      "text/plain": [
       "\"Initialization done! All set :-)\""
      ]
     },
     "metadata": {},
     "output_type": "display_data"
    }
   ],
   "source": [
    "#Using smth means: pre-compile and load smth as a package.\n",
    "using Pkg;\n",
    "#Set the Gurobi path\n",
    "ENV[\"GUROBI_HOME\"] = \"C:\\\\Program Files\\\\gurobi912\\\\win64\\\\\"\n",
    "#For first timers (comment after): compile Gurobi with the given path\n",
    "# Pkg.build(\"Gurobi\")\n",
    "#Add the packages that may not be installed.\n",
    "Pkg.add([\"Latexify\", \"Polyhedra\", \"Makie\", \"CDDLib\", \"JuMP\", \"Gurobi\", \"JLD\", \"HDF5\", \"Plots\"])\n",
    "#Load the packages\n",
    "using JuMP, Latexify, Gurobi, LinearAlgebra, Polyhedra, CDDLib, SparseArrays, JLD, HDF5, Plots\n",
    "\n",
    "display(\"Initialization done! All set :-)\")"
   ]
  },
  {
   "cell_type": "markdown",
   "metadata": {},
   "source": [
    "# Load Data"
   ]
  },
  {
   "cell_type": "code",
   "execution_count": 2,
   "metadata": {},
   "outputs": [
    {
     "data": {
      "text/plain": [
       "get_data (generic function with 1 method)"
      ]
     },
     "execution_count": 2,
     "metadata": {},
     "output_type": "execute_result"
    }
   ],
   "source": [
    "function get_data(instance)\n",
    "    if (instance==1)\n",
    "        data = load(\"../data/X1-3.jld\")[\"X\"]\n",
    "    elseif(instance==2)\n",
    "        data = load(\"../data/X2-2.jld\")[\"X\"]\n",
    "    else\n",
    "        data = load(\"../data/X3-2.jld\")[\"X\"]\n",
    "    end\n",
    "    return data\n",
    "end"
   ]
  },
  {
   "cell_type": "markdown",
   "metadata": {},
   "source": [
    "# Create Gurobi Problem"
   ]
  },
  {
   "cell_type": "code",
   "execution_count": 3,
   "metadata": {},
   "outputs": [
    {
     "data": {
      "text/plain": [
       "get_new_model (generic function with 1 method)"
      ]
     },
     "execution_count": 3,
     "metadata": {},
     "output_type": "execute_result"
    }
   ],
   "source": [
    "function get_new_model() \n",
    "    return Model(Gurobi.Optimizer)\n",
    "end"
   ]
  },
  {
   "cell_type": "markdown",
   "metadata": {},
   "source": [
    "# Calculate Distance Matrix"
   ]
  },
  {
   "cell_type": "code",
   "execution_count": 4,
   "metadata": {},
   "outputs": [
    {
     "data": {
      "text/plain": [
       "get_dist_matrix (generic function with 1 method)"
      ]
     },
     "execution_count": 4,
     "metadata": {},
     "output_type": "execute_result"
    }
   ],
   "source": [
    "function get_dist_matrix(data)\n",
    "    k = Array{Float64}(undef, size(data,1), size(data,1))\n",
    "    for i = 1:size(data,1)\n",
    "        for j = 1:size(data,1)\n",
    "            k[i,j] = sqrt((data[i,1]-data[j,1])^2 + (data[i,2]-data[j,2])^2)\n",
    "        end\n",
    "    end\n",
    "    return k\n",
    "end"
   ]
  },
  {
   "cell_type": "markdown",
   "metadata": {},
   "source": [
    "# Create Constraints"
   ]
  },
  {
   "cell_type": "code",
   "execution_count": 5,
   "metadata": {},
   "outputs": [
    {
     "data": {
      "text/plain": [
       "get_constraints (generic function with 1 method)"
      ]
     },
     "execution_count": 5,
     "metadata": {},
     "output_type": "execute_result"
    }
   ],
   "source": [
    "function get_constraints(data, instance)\n",
    "    if (instance == 1)\n",
    "        n_min = 2\n",
    "        n_max = 8\n",
    "        d_max = 10\n",
    "    else\n",
    "        n_min = 4\n",
    "        n_max = 6\n",
    "        d_max = 9\n",
    "    end    \n",
    "    max_clients = Int(size(data,1))\n",
    "    max_depots = Int(ceil(max_clients/n_min))\n",
    "    return (max_clients, n_max, n_min, d_max, max_depots)\n",
    "end"
   ]
  },
  {
   "cell_type": "markdown",
   "metadata": {},
   "source": [
    "# Define Symbolic Constraint Variables\n",
    "$$C = \\text{number of clients}$$\n",
    "$$D = \\text{maximum number of depots} = \\frac{C}{n_{min}}$$\n",
    "$$x_{cd} = \\begin{cases}      1, & \\text{if depot }d \\text{ services client }c\\ \\\\\n",
    "      0, & \\text{otherwise}\n",
    "    \\end{cases} \\\\\n",
    "y_{d} = \\begin{cases}      1, & \\text{if depot } d \\text{ exists} \\\\\n",
    "      0, & \\text{otherwise}\n",
    "    \\end{cases} $$\n",
    "$$k_{c_1c_2} = \\text{Euclidean distance from client } c_1 \\text{ to client }c_2 $$"
   ]
  },
  {
   "cell_type": "markdown",
   "metadata": {},
   "source": [
    "# Create y"
   ]
  },
  {
   "cell_type": "code",
   "execution_count": 6,
   "metadata": {},
   "outputs": [
    {
     "data": {
      "text/plain": [
       "add_y (generic function with 1 method)"
      ]
     },
     "execution_count": 6,
     "metadata": {},
     "output_type": "execute_result"
    }
   ],
   "source": [
    "function add_y(model, max_depots)\n",
    "    return @variable(model, y[1:max_depots], base_name = \"y\", binary=true)\n",
    "end"
   ]
  },
  {
   "cell_type": "markdown",
   "metadata": {},
   "source": [
    "# Create x"
   ]
  },
  {
   "cell_type": "code",
   "execution_count": 7,
   "metadata": {},
   "outputs": [
    {
     "data": {
      "text/plain": [
       "add_x (generic function with 1 method)"
      ]
     },
     "execution_count": 7,
     "metadata": {},
     "output_type": "execute_result"
    }
   ],
   "source": [
    "function add_x(model, max_depots, max_clients)\n",
    "    return @variable(model, x[1:max_clients,1:max_depots], base_name = \"x\", binary=true)\n",
    "end"
   ]
  },
  {
   "cell_type": "markdown",
   "metadata": {},
   "source": [
    "# Add objective\n",
    "Minimise the number of depots:\n",
    "$$ min\\left(\\sum_{d=1}^{D}y_d\\right) $$"
   ]
  },
  {
   "cell_type": "code",
   "execution_count": 8,
   "metadata": {},
   "outputs": [
    {
     "data": {
      "text/plain": [
       "add_objective (generic function with 1 method)"
      ]
     },
     "execution_count": 8,
     "metadata": {},
     "output_type": "execute_result"
    }
   ],
   "source": [
    "function add_objective(model, y)\n",
    "    return @objective(model, Min, sum(y))\n",
    "end"
   ]
  },
  {
   "cell_type": "markdown",
   "metadata": {},
   "source": [
    "# Add Constraint 1\n",
    "If a depot exists, ensure that it serves no more than $n_{max}$ clients:\n",
    "$$\\sum_{c=1}^Cx_{cd}\\leq n_{max}*y_d \\text{ }\\forall d\\in 1...D$$"
   ]
  },
  {
   "cell_type": "code",
   "execution_count": 9,
   "metadata": {
    "scrolled": true
   },
   "outputs": [
    {
     "data": {
      "text/plain": [
       "add_constraint_1 (generic function with 1 method)"
      ]
     },
     "execution_count": 9,
     "metadata": {},
     "output_type": "execute_result"
    }
   ],
   "source": [
    "function add_constraint_1(model, max_clients, n_max, n_min, d_max, max_depots, k, x, y)\n",
    "    for d in 1:max_depots\n",
    "        constraint_expr = @expression(model, 0)\n",
    "        for c in 1:max_clients\n",
    "            constraint_expr += x[c,d]\n",
    "        end\n",
    "        @constraint(model, constraint_expr<=n_max*y[d])\n",
    "    end\n",
    "end"
   ]
  },
  {
   "cell_type": "markdown",
   "metadata": {},
   "source": [
    "# Add constraint 2\n",
    "If a depot exists, ensure that it serves no less than $n_{min}$ clients:\n",
    "$$\\sum_{c=1}^Cx_{cd}\\geq n_{min}*y_d\\text{ }\\forall d \\in 1...D$$"
   ]
  },
  {
   "cell_type": "code",
   "execution_count": 10,
   "metadata": {
    "scrolled": true
   },
   "outputs": [
    {
     "data": {
      "text/plain": [
       "add_constraint_2 (generic function with 1 method)"
      ]
     },
     "execution_count": 10,
     "metadata": {},
     "output_type": "execute_result"
    }
   ],
   "source": [
    "function add_constraint_2(model, max_clients, n_max, n_min, d_max, max_depots, k, x, y)\n",
    "    for d in 1:max_depots\n",
    "        constraint_expr = @expression(model, 0)\n",
    "        for c in 1:max_clients\n",
    "            constraint_expr += x[c,d]\n",
    "        end\n",
    "        @constraint(model, constraint_expr>=n_min*y[d])\n",
    "    end\n",
    "end"
   ]
  },
  {
   "cell_type": "markdown",
   "metadata": {},
   "source": [
    "# Constraint 3\n",
    "Ensure that every client is served by exactly 1 depot:\n",
    "$$\\sum_{d=1}^Dx_{cd}= 1\\text{ }\\forall c \\in 1...C$$"
   ]
  },
  {
   "cell_type": "code",
   "execution_count": 11,
   "metadata": {},
   "outputs": [
    {
     "data": {
      "text/plain": [
       "add_constraint_3 (generic function with 1 method)"
      ]
     },
     "execution_count": 11,
     "metadata": {},
     "output_type": "execute_result"
    }
   ],
   "source": [
    "function add_constraint_3(model, max_clients, n_max, n_min, d_max, max_depots, k, x, y)\n",
    "    for c in 1:max_clients\n",
    "        constraint_expr = @expression(model, 0)\n",
    "        for d in 1:max_depots\n",
    "            constraint_expr += x[c,d]\n",
    "        end\n",
    "        @constraint(model, constraint_expr==1)\n",
    "    end\n",
    "end"
   ]
  },
  {
   "cell_type": "markdown",
   "metadata": {},
   "source": [
    "# Constraint 4\n",
    "Ensure that the euclidean distance between any pair of clients served by the same depot is not larger than $d_{max}$:\n",
    "$$k_{{c_1}{c_2}}*x_{c_1d}*x_{c_2d}\\leq d_{max}\\text{ }\\forall c_1\\in 1...C,\\text{ }\\forall c_2 \\in 1...C,\\text{ } \\forall d \\in 1...D$$\n",
    "In practice, this can made more efficient due to the fact that the euclidean distance from point $c_i \\text{ to } c_j$ is the same as from $c_j \\text{ to } c_i$ and the distance from $c_i \\text{ to } c_i = 0$. This optimisation is made in the code below."
   ]
  },
  {
   "cell_type": "code",
   "execution_count": 12,
   "metadata": {},
   "outputs": [
    {
     "data": {
      "text/plain": [
       "add_constraint_4 (generic function with 1 method)"
      ]
     },
     "execution_count": 12,
     "metadata": {},
     "output_type": "execute_result"
    }
   ],
   "source": [
    "function add_constraint_4(model, max_clients, n_max, n_min, d_max, max_depots, k, x, y)\n",
    "    for d in 1:max_depots\n",
    "        for c1 in 1:max_clients\n",
    "            for c2 in 1:c1-1\n",
    "                @constraint(model, k[c1,c2]*x[c1,d]*x[c2,d]<=d_max)\n",
    "            end\n",
    "        end\n",
    "    end\n",
    "end"
   ]
  },
  {
   "cell_type": "markdown",
   "metadata": {},
   "source": [
    "# Plotting Function"
   ]
  },
  {
   "cell_type": "code",
   "execution_count": 13,
   "metadata": {},
   "outputs": [
    {
     "data": {
      "text/plain": [
       "plot_results (generic function with 1 method)"
      ]
     },
     "execution_count": 13,
     "metadata": {},
     "output_type": "execute_result"
    }
   ],
   "source": [
    "function plot_results(data, x, y)\n",
    "    scatter()\n",
    "    for y_pos in 1:size(y, 1)\n",
    "        if(value.(y)[y_pos]==1)\n",
    "            temp_x = []\n",
    "            temp_y = []\n",
    "            for x_pos in 1:size(x, 1)\n",
    "                if(value.(x)[x_pos,y_pos]==1.0)\n",
    "                    push!(temp_x, data[x_pos,1])\n",
    "                    push!(temp_y, data[x_pos,2])\n",
    "                end\n",
    "            end\n",
    "            plot!(temp_x,temp_y, seriestype = :scatter)\n",
    "        end\n",
    "    end\n",
    "    display(plot!())\n",
    "end"
   ]
  },
  {
   "cell_type": "markdown",
   "metadata": {},
   "source": [
    "# Solve\n",
    "## Instance 1"
   ]
  },
  {
   "cell_type": "code",
   "execution_count": 14,
   "metadata": {
    "scrolled": false
   },
   "outputs": [
    {
     "data": {
      "image/svg+xml": [
       "<?xml version=\"1.0\" encoding=\"utf-8\"?>\n",
       "<svg xmlns=\"http://www.w3.org/2000/svg\" xmlns:xlink=\"http://www.w3.org/1999/xlink\" width=\"600\" height=\"400\" viewBox=\"0 0 2400 1600\">\n",
       "<defs>\n",
       "  <clipPath id=\"clip630\">\n",
       "    <rect x=\"0\" y=\"0\" width=\"2400\" height=\"1600\"/>\n",
       "  </clipPath>\n",
       "</defs>\n",
       "<path clip-path=\"url(#clip630)\" d=\"\n",
       "M0 1600 L2400 1600 L2400 0 L0 0  Z\n",
       "  \" fill=\"#ffffff\" fill-rule=\"evenodd\" fill-opacity=\"1\"/>\n",
       "<defs>\n",
       "  <clipPath id=\"clip631\">\n",
       "    <rect x=\"480\" y=\"0\" width=\"1681\" height=\"1600\"/>\n",
       "  </clipPath>\n",
       "</defs>\n",
       "<path clip-path=\"url(#clip630)\" d=\"\n",
       "M178.867 1486.45 L2352.76 1486.45 L2352.76 47.2441 L178.867 47.2441  Z\n",
       "  \" fill=\"#ffffff\" fill-rule=\"evenodd\" fill-opacity=\"1\"/>\n",
       "<defs>\n",
       "  <clipPath id=\"clip632\">\n",
       "    <rect x=\"178\" y=\"47\" width=\"2175\" height=\"1440\"/>\n",
       "  </clipPath>\n",
       "</defs>\n",
       "<polyline clip-path=\"url(#clip632)\" style=\"stroke:#000000; stroke-linecap:butt; stroke-linejoin:round; stroke-width:2; stroke-opacity:0.1; fill:none\" points=\"\n",
       "  572.982,1486.45 572.982,47.2441 \n",
       "  \"/>\n",
       "<polyline clip-path=\"url(#clip632)\" style=\"stroke:#000000; stroke-linecap:butt; stroke-linejoin:round; stroke-width:2; stroke-opacity:0.1; fill:none\" points=\"\n",
       "  1018.35,1486.45 1018.35,47.2441 \n",
       "  \"/>\n",
       "<polyline clip-path=\"url(#clip632)\" style=\"stroke:#000000; stroke-linecap:butt; stroke-linejoin:round; stroke-width:2; stroke-opacity:0.1; fill:none\" points=\"\n",
       "  1463.71,1486.45 1463.71,47.2441 \n",
       "  \"/>\n",
       "<polyline clip-path=\"url(#clip632)\" style=\"stroke:#000000; stroke-linecap:butt; stroke-linejoin:round; stroke-width:2; stroke-opacity:0.1; fill:none\" points=\"\n",
       "  1909.07,1486.45 1909.07,47.2441 \n",
       "  \"/>\n",
       "<polyline clip-path=\"url(#clip630)\" style=\"stroke:#000000; stroke-linecap:butt; stroke-linejoin:round; stroke-width:4; stroke-opacity:1; fill:none\" points=\"\n",
       "  178.867,1486.45 2352.76,1486.45 \n",
       "  \"/>\n",
       "<polyline clip-path=\"url(#clip630)\" style=\"stroke:#000000; stroke-linecap:butt; stroke-linejoin:round; stroke-width:4; stroke-opacity:1; fill:none\" points=\"\n",
       "  572.982,1486.45 572.982,1467.55 \n",
       "  \"/>\n",
       "<polyline clip-path=\"url(#clip630)\" style=\"stroke:#000000; stroke-linecap:butt; stroke-linejoin:round; stroke-width:4; stroke-opacity:1; fill:none\" points=\"\n",
       "  1018.35,1486.45 1018.35,1467.55 \n",
       "  \"/>\n",
       "<polyline clip-path=\"url(#clip630)\" style=\"stroke:#000000; stroke-linecap:butt; stroke-linejoin:round; stroke-width:4; stroke-opacity:1; fill:none\" points=\"\n",
       "  1463.71,1486.45 1463.71,1467.55 \n",
       "  \"/>\n",
       "<polyline clip-path=\"url(#clip630)\" style=\"stroke:#000000; stroke-linecap:butt; stroke-linejoin:round; stroke-width:4; stroke-opacity:1; fill:none\" points=\"\n",
       "  1909.07,1486.45 1909.07,1467.55 \n",
       "  \"/>\n",
       "<path clip-path=\"url(#clip630)\" d=\"M520.008 1532.02 L549.684 1532.02 L549.684 1535.95 L520.008 1535.95 L520.008 1532.02 Z\" fill=\"#000000\" fill-rule=\"evenodd\" fill-opacity=\"1\" /><path clip-path=\"url(#clip630)\" d=\"M558.596 1514.29 L580.818 1514.29 L580.818 1516.28 L568.272 1548.85 L563.388 1548.85 L575.193 1518.22 L558.596 1518.22 L558.596 1514.29 Z\" fill=\"#000000\" fill-rule=\"evenodd\" fill-opacity=\"1\" /><path clip-path=\"url(#clip630)\" d=\"M589.938 1542.97 L594.823 1542.97 L594.823 1548.85 L589.938 1548.85 L589.938 1542.97 Z\" fill=\"#000000\" fill-rule=\"evenodd\" fill-opacity=\"1\" /><path clip-path=\"url(#clip630)\" d=\"M605.054 1514.29 L623.41 1514.29 L623.41 1518.22 L609.336 1518.22 L609.336 1526.7 Q610.355 1526.35 611.373 1526.19 Q612.392 1526 613.41 1526 Q619.197 1526 622.577 1529.17 Q625.957 1532.34 625.957 1537.76 Q625.957 1543.34 622.485 1546.44 Q619.012 1549.52 612.693 1549.52 Q610.517 1549.52 608.248 1549.15 Q606.003 1548.78 603.596 1548.04 L603.596 1543.34 Q605.679 1544.47 607.901 1545.03 Q610.123 1545.58 612.6 1545.58 Q616.605 1545.58 618.943 1543.48 Q621.281 1541.37 621.281 1537.76 Q621.281 1534.15 618.943 1532.04 Q616.605 1529.94 612.6 1529.94 Q610.725 1529.94 608.85 1530.35 Q606.998 1530.77 605.054 1531.65 L605.054 1514.29 Z\" fill=\"#000000\" fill-rule=\"evenodd\" fill-opacity=\"1\" /><path clip-path=\"url(#clip630)\" d=\"M964.874 1532.02 L994.549 1532.02 L994.549 1535.95 L964.874 1535.95 L964.874 1532.02 Z\" fill=\"#000000\" fill-rule=\"evenodd\" fill-opacity=\"1\" /><path clip-path=\"url(#clip630)\" d=\"M1004.69 1514.29 L1023.04 1514.29 L1023.04 1518.22 L1008.97 1518.22 L1008.97 1526.7 Q1009.99 1526.35 1011.01 1526.19 Q1012.03 1526 1013.04 1526 Q1018.83 1526 1022.21 1529.17 Q1025.59 1532.34 1025.59 1537.76 Q1025.59 1543.34 1022.12 1546.44 Q1018.65 1549.52 1012.33 1549.52 Q1010.15 1549.52 1007.88 1549.15 Q1005.64 1548.78 1003.23 1548.04 L1003.23 1543.34 Q1005.31 1544.47 1007.54 1545.03 Q1009.76 1545.58 1012.23 1545.58 Q1016.24 1545.58 1018.58 1543.48 Q1020.91 1541.37 1020.91 1537.76 Q1020.91 1534.15 1018.58 1532.04 Q1016.24 1529.94 1012.23 1529.94 Q1010.36 1529.94 1008.48 1530.35 Q1006.63 1530.77 1004.69 1531.65 L1004.69 1514.29 Z\" fill=\"#000000\" fill-rule=\"evenodd\" fill-opacity=\"1\" /><path clip-path=\"url(#clip630)\" d=\"M1034.8 1542.97 L1039.69 1542.97 L1039.69 1548.85 L1034.8 1548.85 L1034.8 1542.97 Z\" fill=\"#000000\" fill-rule=\"evenodd\" fill-opacity=\"1\" /><path clip-path=\"url(#clip630)\" d=\"M1059.87 1517.37 Q1056.26 1517.37 1054.43 1520.93 Q1052.63 1524.47 1052.63 1531.6 Q1052.63 1538.71 1054.43 1542.27 Q1056.26 1545.82 1059.87 1545.82 Q1063.51 1545.82 1065.31 1542.27 Q1067.14 1538.71 1067.14 1531.6 Q1067.14 1524.47 1065.31 1520.93 Q1063.51 1517.37 1059.87 1517.37 M1059.87 1513.66 Q1065.68 1513.66 1068.74 1518.27 Q1071.82 1522.85 1071.82 1531.6 Q1071.82 1540.33 1068.74 1544.94 Q1065.68 1549.52 1059.87 1549.52 Q1054.06 1549.52 1050.98 1544.94 Q1047.93 1540.33 1047.93 1531.6 Q1047.93 1522.85 1050.98 1518.27 Q1054.06 1513.66 1059.87 1513.66 Z\" fill=\"#000000\" fill-rule=\"evenodd\" fill-opacity=\"1\" /><path clip-path=\"url(#clip630)\" d=\"M1410.73 1532.02 L1440.41 1532.02 L1440.41 1535.95 L1410.73 1535.95 L1410.73 1532.02 Z\" fill=\"#000000\" fill-rule=\"evenodd\" fill-opacity=\"1\" /><path clip-path=\"url(#clip630)\" d=\"M1454.53 1544.91 L1470.85 1544.91 L1470.85 1548.85 L1448.91 1548.85 L1448.91 1544.91 Q1451.57 1542.16 1456.15 1537.53 Q1460.76 1532.88 1461.94 1531.53 Q1464.18 1529.01 1465.06 1527.27 Q1465.97 1525.51 1465.97 1523.82 Q1465.97 1521.07 1464.02 1519.33 Q1462.1 1517.6 1459 1517.6 Q1456.8 1517.6 1454.35 1518.36 Q1451.91 1519.13 1449.14 1520.68 L1449.14 1515.95 Q1451.96 1514.82 1454.41 1514.24 Q1456.87 1513.66 1458.91 1513.66 Q1464.28 1513.66 1467.47 1516.35 Q1470.66 1519.03 1470.66 1523.52 Q1470.66 1525.65 1469.85 1527.57 Q1469.07 1529.47 1466.96 1532.07 Q1466.38 1532.74 1463.28 1535.95 Q1460.18 1539.15 1454.53 1544.91 Z\" fill=\"#000000\" fill-rule=\"evenodd\" fill-opacity=\"1\" /><path clip-path=\"url(#clip630)\" d=\"M1480.66 1542.97 L1485.55 1542.97 L1485.55 1548.85 L1480.66 1548.85 L1480.66 1542.97 Z\" fill=\"#000000\" fill-rule=\"evenodd\" fill-opacity=\"1\" /><path clip-path=\"url(#clip630)\" d=\"M1495.78 1514.29 L1514.14 1514.29 L1514.14 1518.22 L1500.06 1518.22 L1500.06 1526.7 Q1501.08 1526.35 1502.1 1526.19 Q1503.12 1526 1504.14 1526 Q1509.92 1526 1513.3 1529.17 Q1516.68 1532.34 1516.68 1537.76 Q1516.68 1543.34 1513.21 1546.44 Q1509.74 1549.52 1503.42 1549.52 Q1501.24 1549.52 1498.97 1549.15 Q1496.73 1548.78 1494.32 1548.04 L1494.32 1543.34 Q1496.41 1544.47 1498.63 1545.03 Q1500.85 1545.58 1503.33 1545.58 Q1507.33 1545.58 1509.67 1543.48 Q1512.01 1541.37 1512.01 1537.76 Q1512.01 1534.15 1509.67 1532.04 Q1507.33 1529.94 1503.33 1529.94 Q1501.45 1529.94 1499.58 1530.35 Q1497.72 1530.77 1495.78 1531.65 L1495.78 1514.29 Z\" fill=\"#000000\" fill-rule=\"evenodd\" fill-opacity=\"1\" /><path clip-path=\"url(#clip630)\" d=\"M1886.46 1517.37 Q1882.84 1517.37 1881.02 1520.93 Q1879.21 1524.47 1879.21 1531.6 Q1879.21 1538.71 1881.02 1542.27 Q1882.84 1545.82 1886.46 1545.82 Q1890.09 1545.82 1891.9 1542.27 Q1893.72 1538.71 1893.72 1531.6 Q1893.72 1524.47 1891.9 1520.93 Q1890.09 1517.37 1886.46 1517.37 M1886.46 1513.66 Q1892.27 1513.66 1895.32 1518.27 Q1898.4 1522.85 1898.4 1531.6 Q1898.4 1540.33 1895.32 1544.94 Q1892.27 1549.52 1886.46 1549.52 Q1880.65 1549.52 1877.57 1544.94 Q1874.51 1540.33 1874.51 1531.6 Q1874.51 1522.85 1877.57 1518.27 Q1880.65 1513.66 1886.46 1513.66 Z\" fill=\"#000000\" fill-rule=\"evenodd\" fill-opacity=\"1\" /><path clip-path=\"url(#clip630)\" d=\"M1906.62 1542.97 L1911.5 1542.97 L1911.5 1548.85 L1906.62 1548.85 L1906.62 1542.97 Z\" fill=\"#000000\" fill-rule=\"evenodd\" fill-opacity=\"1\" /><path clip-path=\"url(#clip630)\" d=\"M1931.69 1517.37 Q1928.08 1517.37 1926.25 1520.93 Q1924.44 1524.47 1924.44 1531.6 Q1924.44 1538.71 1926.25 1542.27 Q1928.08 1545.82 1931.69 1545.82 Q1935.32 1545.82 1937.13 1542.27 Q1938.96 1538.71 1938.96 1531.6 Q1938.96 1524.47 1937.13 1520.93 Q1935.32 1517.37 1931.69 1517.37 M1931.69 1513.66 Q1937.5 1513.66 1940.55 1518.27 Q1943.63 1522.85 1943.63 1531.6 Q1943.63 1540.33 1940.55 1544.94 Q1937.5 1549.52 1931.69 1549.52 Q1925.88 1549.52 1922.8 1544.94 Q1919.74 1540.33 1919.74 1531.6 Q1919.74 1522.85 1922.8 1518.27 Q1925.88 1513.66 1931.69 1513.66 Z\" fill=\"#000000\" fill-rule=\"evenodd\" fill-opacity=\"1\" /><polyline clip-path=\"url(#clip632)\" style=\"stroke:#000000; stroke-linecap:butt; stroke-linejoin:round; stroke-width:2; stroke-opacity:0.1; fill:none\" points=\"\n",
       "  178.867,1261.25 2352.76,1261.25 \n",
       "  \"/>\n",
       "<polyline clip-path=\"url(#clip632)\" style=\"stroke:#000000; stroke-linecap:butt; stroke-linejoin:round; stroke-width:2; stroke-opacity:0.1; fill:none\" points=\"\n",
       "  178.867,903.827 2352.76,903.827 \n",
       "  \"/>\n",
       "<polyline clip-path=\"url(#clip632)\" style=\"stroke:#000000; stroke-linecap:butt; stroke-linejoin:round; stroke-width:2; stroke-opacity:0.1; fill:none\" points=\"\n",
       "  178.867,546.401 2352.76,546.401 \n",
       "  \"/>\n",
       "<polyline clip-path=\"url(#clip632)\" style=\"stroke:#000000; stroke-linecap:butt; stroke-linejoin:round; stroke-width:2; stroke-opacity:0.1; fill:none\" points=\"\n",
       "  178.867,188.975 2352.76,188.975 \n",
       "  \"/>\n",
       "<polyline clip-path=\"url(#clip630)\" style=\"stroke:#000000; stroke-linecap:butt; stroke-linejoin:round; stroke-width:4; stroke-opacity:1; fill:none\" points=\"\n",
       "  178.867,1486.45 178.867,47.2441 \n",
       "  \"/>\n",
       "<polyline clip-path=\"url(#clip630)\" style=\"stroke:#000000; stroke-linecap:butt; stroke-linejoin:round; stroke-width:4; stroke-opacity:1; fill:none\" points=\"\n",
       "  178.867,1261.25 197.764,1261.25 \n",
       "  \"/>\n",
       "<polyline clip-path=\"url(#clip630)\" style=\"stroke:#000000; stroke-linecap:butt; stroke-linejoin:round; stroke-width:4; stroke-opacity:1; fill:none\" points=\"\n",
       "  178.867,903.827 197.764,903.827 \n",
       "  \"/>\n",
       "<polyline clip-path=\"url(#clip630)\" style=\"stroke:#000000; stroke-linecap:butt; stroke-linejoin:round; stroke-width:4; stroke-opacity:1; fill:none\" points=\"\n",
       "  178.867,546.401 197.764,546.401 \n",
       "  \"/>\n",
       "<polyline clip-path=\"url(#clip630)\" style=\"stroke:#000000; stroke-linecap:butt; stroke-linejoin:round; stroke-width:4; stroke-opacity:1; fill:none\" points=\"\n",
       "  178.867,188.975 197.764,188.975 \n",
       "  \"/>\n",
       "<path clip-path=\"url(#clip630)\" d=\"M50.9921 1261.7 L80.6679 1261.7 L80.6679 1265.64 L50.9921 1265.64 L50.9921 1261.7 Z\" fill=\"#000000\" fill-rule=\"evenodd\" fill-opacity=\"1\" /><path clip-path=\"url(#clip630)\" d=\"M91.5706 1274.6 L99.2095 1274.6 L99.2095 1248.23 L90.8993 1249.9 L90.8993 1245.64 L99.1632 1243.97 L103.839 1243.97 L103.839 1274.6 L111.478 1274.6 L111.478 1278.53 L91.5706 1278.53 L91.5706 1274.6 Z\" fill=\"#000000\" fill-rule=\"evenodd\" fill-opacity=\"1\" /><path clip-path=\"url(#clip630)\" d=\"M130.922 1247.05 Q127.311 1247.05 125.482 1250.62 Q123.677 1254.16 123.677 1261.29 Q123.677 1268.39 125.482 1271.96 Q127.311 1275.5 130.922 1275.5 Q134.556 1275.5 136.362 1271.96 Q138.191 1268.39 138.191 1261.29 Q138.191 1254.16 136.362 1250.62 Q134.556 1247.05 130.922 1247.05 M130.922 1243.35 Q136.732 1243.35 139.788 1247.95 Q142.867 1252.54 142.867 1261.29 Q142.867 1270.01 139.788 1274.62 Q136.732 1279.2 130.922 1279.2 Q125.112 1279.2 122.033 1274.62 Q118.978 1270.01 118.978 1261.29 Q118.978 1252.54 122.033 1247.95 Q125.112 1243.35 130.922 1243.35 Z\" fill=\"#000000\" fill-rule=\"evenodd\" fill-opacity=\"1\" /><path clip-path=\"url(#clip630)\" d=\"M130.922 889.625 Q127.311 889.625 125.482 893.19 Q123.677 896.732 123.677 903.861 Q123.677 910.968 125.482 914.533 Q127.311 918.074 130.922 918.074 Q134.556 918.074 136.362 914.533 Q138.191 910.968 138.191 903.861 Q138.191 896.732 136.362 893.19 Q134.556 889.625 130.922 889.625 M130.922 885.922 Q136.732 885.922 139.788 890.528 Q142.867 895.111 142.867 903.861 Q142.867 912.588 139.788 917.195 Q136.732 921.778 130.922 921.778 Q125.112 921.778 122.033 917.195 Q118.978 912.588 118.978 903.861 Q118.978 895.111 122.033 890.528 Q125.112 885.922 130.922 885.922 Z\" fill=\"#000000\" fill-rule=\"evenodd\" fill-opacity=\"1\" /><path clip-path=\"url(#clip630)\" d=\"M91.5706 559.745 L99.2095 559.745 L99.2095 533.38 L90.8993 535.046 L90.8993 530.787 L99.1632 529.121 L103.839 529.121 L103.839 559.745 L111.478 559.745 L111.478 563.681 L91.5706 563.681 L91.5706 559.745 Z\" fill=\"#000000\" fill-rule=\"evenodd\" fill-opacity=\"1\" /><path clip-path=\"url(#clip630)\" d=\"M130.922 532.199 Q127.311 532.199 125.482 535.764 Q123.677 539.306 123.677 546.435 Q123.677 553.542 125.482 557.107 Q127.311 560.648 130.922 560.648 Q134.556 560.648 136.362 557.107 Q138.191 553.542 138.191 546.435 Q138.191 539.306 136.362 535.764 Q134.556 532.199 130.922 532.199 M130.922 528.496 Q136.732 528.496 139.788 533.102 Q142.867 537.685 142.867 546.435 Q142.867 555.162 139.788 559.769 Q136.732 564.352 130.922 564.352 Q125.112 564.352 122.033 559.769 Q118.978 555.162 118.978 546.435 Q118.978 537.685 122.033 533.102 Q125.112 528.496 130.922 528.496 Z\" fill=\"#000000\" fill-rule=\"evenodd\" fill-opacity=\"1\" /><path clip-path=\"url(#clip630)\" d=\"M94.7882 202.319 L111.108 202.319 L111.108 206.255 L89.1632 206.255 L89.1632 202.319 Q91.8252 199.565 96.4085 194.935 Q101.015 190.282 102.196 188.94 Q104.441 186.417 105.321 184.681 Q106.223 182.921 106.223 181.232 Q106.223 178.477 104.279 176.741 Q102.358 175.005 99.2558 175.005 Q97.0567 175.005 94.603 175.769 Q92.1725 176.533 89.3947 178.083 L89.3947 173.361 Q92.2188 172.227 94.6724 171.648 Q97.1261 171.07 99.1632 171.07 Q104.534 171.07 107.728 173.755 Q110.922 176.44 110.922 180.931 Q110.922 183.06 110.112 184.982 Q109.325 186.88 107.219 189.472 Q106.64 190.144 103.538 193.361 Q100.436 196.556 94.7882 202.319 Z\" fill=\"#000000\" fill-rule=\"evenodd\" fill-opacity=\"1\" /><path clip-path=\"url(#clip630)\" d=\"M130.922 174.773 Q127.311 174.773 125.482 178.338 Q123.677 181.88 123.677 189.009 Q123.677 196.116 125.482 199.681 Q127.311 203.222 130.922 203.222 Q134.556 203.222 136.362 199.681 Q138.191 196.116 138.191 189.009 Q138.191 181.88 136.362 178.338 Q134.556 174.773 130.922 174.773 M130.922 171.07 Q136.732 171.07 139.788 175.676 Q142.867 180.259 142.867 189.009 Q142.867 197.736 139.788 202.343 Q136.732 206.926 130.922 206.926 Q125.112 206.926 122.033 202.343 Q118.978 197.736 118.978 189.009 Q118.978 180.259 122.033 175.676 Q125.112 171.07 130.922 171.07 Z\" fill=\"#000000\" fill-rule=\"evenodd\" fill-opacity=\"1\" /><circle clip-path=\"url(#clip632)\" cx=\"1081.05\" cy=\"1388.87\" r=\"14\" fill=\"#009af9\" fill-rule=\"evenodd\" fill-opacity=\"1\" stroke=\"#000000\" stroke-opacity=\"1\" stroke-width=\"3.2\"/>\n",
       "<circle clip-path=\"url(#clip632)\" cx=\"675.74\" cy=\"1384.73\" r=\"14\" fill=\"#009af9\" fill-rule=\"evenodd\" fill-opacity=\"1\" stroke=\"#000000\" stroke-opacity=\"1\" stroke-width=\"3.2\"/>\n",
       "<circle clip-path=\"url(#clip632)\" cx=\"806.54\" cy=\"1445.72\" r=\"14\" fill=\"#009af9\" fill-rule=\"evenodd\" fill-opacity=\"1\" stroke=\"#000000\" stroke-opacity=\"1\" stroke-width=\"3.2\"/>\n",
       "<circle clip-path=\"url(#clip632)\" cx=\"771.866\" cy=\"1408.2\" r=\"14\" fill=\"#009af9\" fill-rule=\"evenodd\" fill-opacity=\"1\" stroke=\"#000000\" stroke-opacity=\"1\" stroke-width=\"3.2\"/>\n",
       "<circle clip-path=\"url(#clip632)\" cx=\"1048.54\" cy=\"1381.7\" r=\"14\" fill=\"#009af9\" fill-rule=\"evenodd\" fill-opacity=\"1\" stroke=\"#000000\" stroke-opacity=\"1\" stroke-width=\"3.2\"/>\n",
       "<circle clip-path=\"url(#clip632)\" cx=\"920.571\" cy=\"1395.16\" r=\"14\" fill=\"#009af9\" fill-rule=\"evenodd\" fill-opacity=\"1\" stroke=\"#000000\" stroke-opacity=\"1\" stroke-width=\"3.2\"/>\n",
       "<circle clip-path=\"url(#clip632)\" cx=\"833.248\" cy=\"1374.78\" r=\"14\" fill=\"#009af9\" fill-rule=\"evenodd\" fill-opacity=\"1\" stroke=\"#000000\" stroke-opacity=\"1\" stroke-width=\"3.2\"/>\n",
       "<circle clip-path=\"url(#clip632)\" cx=\"240.392\" cy=\"1391.07\" r=\"14\" fill=\"#009af9\" fill-rule=\"evenodd\" fill-opacity=\"1\" stroke=\"#000000\" stroke-opacity=\"1\" stroke-width=\"3.2\"/>\n",
       "<circle clip-path=\"url(#clip632)\" cx=\"1032.25\" cy=\"1374.52\" r=\"14\" fill=\"#e26f46\" fill-rule=\"evenodd\" fill-opacity=\"1\" stroke=\"#000000\" stroke-opacity=\"1\" stroke-width=\"3.2\"/>\n",
       "<circle clip-path=\"url(#clip632)\" cx=\"1728.56\" cy=\"1117.94\" r=\"14\" fill=\"#e26f46\" fill-rule=\"evenodd\" fill-opacity=\"1\" stroke=\"#000000\" stroke-opacity=\"1\" stroke-width=\"3.2\"/>\n",
       "<circle clip-path=\"url(#clip632)\" cx=\"1924.67\" cy=\"1077.78\" r=\"14\" fill=\"#e26f46\" fill-rule=\"evenodd\" fill-opacity=\"1\" stroke=\"#000000\" stroke-opacity=\"1\" stroke-width=\"3.2\"/>\n",
       "<circle clip-path=\"url(#clip632)\" cx=\"2092.14\" cy=\"1135.24\" r=\"14\" fill=\"#e26f46\" fill-rule=\"evenodd\" fill-opacity=\"1\" stroke=\"#000000\" stroke-opacity=\"1\" stroke-width=\"3.2\"/>\n",
       "<circle clip-path=\"url(#clip632)\" cx=\"1941.25\" cy=\"1071.78\" r=\"14\" fill=\"#e26f46\" fill-rule=\"evenodd\" fill-opacity=\"1\" stroke=\"#000000\" stroke-opacity=\"1\" stroke-width=\"3.2\"/>\n",
       "<circle clip-path=\"url(#clip632)\" cx=\"2291.23\" cy=\"1137.91\" r=\"14\" fill=\"#e26f46\" fill-rule=\"evenodd\" fill-opacity=\"1\" stroke=\"#000000\" stroke-opacity=\"1\" stroke-width=\"3.2\"/>\n",
       "<circle clip-path=\"url(#clip632)\" cx=\"2148.72\" cy=\"1101.71\" r=\"14\" fill=\"#3da44d\" fill-rule=\"evenodd\" fill-opacity=\"1\" stroke=\"#000000\" stroke-opacity=\"1\" stroke-width=\"3.2\"/>\n",
       "<circle clip-path=\"url(#clip632)\" cx=\"2081.65\" cy=\"1047.2\" r=\"14\" fill=\"#3da44d\" fill-rule=\"evenodd\" fill-opacity=\"1\" stroke=\"#000000\" stroke-opacity=\"1\" stroke-width=\"3.2\"/>\n",
       "<circle clip-path=\"url(#clip632)\" cx=\"1228.58\" cy=\"850.034\" r=\"14\" fill=\"#3da44d\" fill-rule=\"evenodd\" fill-opacity=\"1\" stroke=\"#000000\" stroke-opacity=\"1\" stroke-width=\"3.2\"/>\n",
       "<circle clip-path=\"url(#clip632)\" cx=\"1028.06\" cy=\"857.868\" r=\"14\" fill=\"#3da44d\" fill-rule=\"evenodd\" fill-opacity=\"1\" stroke=\"#000000\" stroke-opacity=\"1\" stroke-width=\"3.2\"/>\n",
       "<circle clip-path=\"url(#clip632)\" cx=\"1322.72\" cy=\"805.039\" r=\"14\" fill=\"#3da44d\" fill-rule=\"evenodd\" fill-opacity=\"1\" stroke=\"#000000\" stroke-opacity=\"1\" stroke-width=\"3.2\"/>\n",
       "<circle clip-path=\"url(#clip632)\" cx=\"1487.13\" cy=\"828.297\" r=\"14\" fill=\"#3da44d\" fill-rule=\"evenodd\" fill-opacity=\"1\" stroke=\"#000000\" stroke-opacity=\"1\" stroke-width=\"3.2\"/>\n",
       "<circle clip-path=\"url(#clip632)\" cx=\"1187.27\" cy=\"843.829\" r=\"14\" fill=\"#3da44d\" fill-rule=\"evenodd\" fill-opacity=\"1\" stroke=\"#000000\" stroke-opacity=\"1\" stroke-width=\"3.2\"/>\n",
       "<circle clip-path=\"url(#clip632)\" cx=\"249.771\" cy=\"122.762\" r=\"14\" fill=\"#c271d2\" fill-rule=\"evenodd\" fill-opacity=\"1\" stroke=\"#000000\" stroke-opacity=\"1\" stroke-width=\"3.2\"/>\n",
       "<circle clip-path=\"url(#clip632)\" cx=\"899.164\" cy=\"87.9763\" r=\"14\" fill=\"#c271d2\" fill-rule=\"evenodd\" fill-opacity=\"1\" stroke=\"#000000\" stroke-opacity=\"1\" stroke-width=\"3.2\"/>\n",
       "<circle clip-path=\"url(#clip632)\" cx=\"913.25\" cy=\"128.144\" r=\"14\" fill=\"#c271d2\" fill-rule=\"evenodd\" fill-opacity=\"1\" stroke=\"#000000\" stroke-opacity=\"1\" stroke-width=\"3.2\"/>\n",
       "<circle clip-path=\"url(#clip632)\" cx=\"753.747\" cy=\"172.957\" r=\"14\" fill=\"#c271d2\" fill-rule=\"evenodd\" fill-opacity=\"1\" stroke=\"#000000\" stroke-opacity=\"1\" stroke-width=\"3.2\"/>\n",
       "<path clip-path=\"url(#clip630)\" d=\"\n",
       "M1984.61 354.418 L2280.29 354.418 L2280.29 95.2176 L1984.61 95.2176  Z\n",
       "  \" fill=\"#ffffff\" fill-rule=\"evenodd\" fill-opacity=\"1\"/>\n",
       "<polyline clip-path=\"url(#clip630)\" style=\"stroke:#000000; stroke-linecap:butt; stroke-linejoin:round; stroke-width:4; stroke-opacity:1; fill:none\" points=\"\n",
       "  1984.61,354.418 2280.29,354.418 2280.29,95.2176 1984.61,95.2176 1984.61,354.418 \n",
       "  \"/>\n",
       "<circle clip-path=\"url(#clip630)\" cx=\"2081.22\" cy=\"147.058\" r=\"23\" fill=\"#009af9\" fill-rule=\"evenodd\" fill-opacity=\"1\" stroke=\"#000000\" stroke-opacity=\"1\" stroke-width=\"5.12\"/>\n",
       "<path clip-path=\"url(#clip630)\" d=\"M2191.68 166.745 Q2189.88 171.375 2188.17 172.787 Q2186.45 174.199 2183.58 174.199 L2180.18 174.199 L2180.18 170.634 L2182.68 170.634 Q2184.44 170.634 2185.41 169.8 Q2186.38 168.967 2187.56 165.865 L2188.33 163.921 L2177.84 138.412 L2182.35 138.412 L2190.46 158.689 L2198.56 138.412 L2203.07 138.412 L2191.68 166.745 Z\" fill=\"#000000\" fill-rule=\"evenodd\" fill-opacity=\"1\" /><path clip-path=\"url(#clip630)\" d=\"M2210.36 160.402 L2218 160.402 L2218 134.037 L2209.69 135.703 L2209.69 131.444 L2217.96 129.778 L2222.63 129.778 L2222.63 160.402 L2230.27 160.402 L2230.27 164.338 L2210.36 164.338 L2210.36 160.402 Z\" fill=\"#000000\" fill-rule=\"evenodd\" fill-opacity=\"1\" /><circle clip-path=\"url(#clip630)\" cx=\"2081.22\" cy=\"198.898\" r=\"23\" fill=\"#e26f46\" fill-rule=\"evenodd\" fill-opacity=\"1\" stroke=\"#000000\" stroke-opacity=\"1\" stroke-width=\"5.12\"/>\n",
       "<path clip-path=\"url(#clip630)\" d=\"M2191.68 218.585 Q2189.88 223.215 2188.17 224.627 Q2186.45 226.039 2183.58 226.039 L2180.18 226.039 L2180.18 222.474 L2182.68 222.474 Q2184.44 222.474 2185.41 221.64 Q2186.38 220.807 2187.56 217.705 L2188.33 215.761 L2177.84 190.252 L2182.35 190.252 L2190.46 210.529 L2198.56 190.252 L2203.07 190.252 L2191.68 218.585 Z\" fill=\"#000000\" fill-rule=\"evenodd\" fill-opacity=\"1\" /><path clip-path=\"url(#clip630)\" d=\"M2213.58 212.242 L2229.9 212.242 L2229.9 216.178 L2207.96 216.178 L2207.96 212.242 Q2210.62 209.488 2215.2 204.858 Q2219.81 200.205 2220.99 198.863 Q2223.23 196.34 2224.11 194.604 Q2225.02 192.844 2225.02 191.155 Q2225.02 188.4 2223.07 186.664 Q2221.15 184.928 2218.05 184.928 Q2215.85 184.928 2213.4 185.692 Q2210.97 186.455 2208.19 188.006 L2208.19 183.284 Q2211.01 182.15 2213.47 181.571 Q2215.92 180.993 2217.96 180.993 Q2223.33 180.993 2226.52 183.678 Q2229.72 186.363 2229.72 190.854 Q2229.72 192.983 2228.91 194.905 Q2228.12 196.803 2226.01 199.395 Q2225.43 200.067 2222.33 203.284 Q2219.23 206.479 2213.58 212.242 Z\" fill=\"#000000\" fill-rule=\"evenodd\" fill-opacity=\"1\" /><circle clip-path=\"url(#clip630)\" cx=\"2081.22\" cy=\"250.738\" r=\"23\" fill=\"#3da44d\" fill-rule=\"evenodd\" fill-opacity=\"1\" stroke=\"#000000\" stroke-opacity=\"1\" stroke-width=\"5.12\"/>\n",
       "<path clip-path=\"url(#clip630)\" d=\"M2191.68 270.425 Q2189.88 275.055 2188.17 276.467 Q2186.45 277.879 2183.58 277.879 L2180.18 277.879 L2180.18 274.314 L2182.68 274.314 Q2184.44 274.314 2185.41 273.48 Q2186.38 272.647 2187.56 269.545 L2188.33 267.601 L2177.84 242.092 L2182.35 242.092 L2190.46 262.369 L2198.56 242.092 L2203.07 242.092 L2191.68 270.425 Z\" fill=\"#000000\" fill-rule=\"evenodd\" fill-opacity=\"1\" /><path clip-path=\"url(#clip630)\" d=\"M2223.72 249.383 Q2227.08 250.101 2228.95 252.369 Q2230.85 254.638 2230.85 257.971 Q2230.85 263.087 2227.33 265.888 Q2223.81 268.689 2217.33 268.689 Q2215.16 268.689 2212.84 268.249 Q2210.55 267.832 2208.1 266.976 L2208.1 262.462 Q2210.04 263.596 2212.35 264.175 Q2214.67 264.754 2217.19 264.754 Q2221.59 264.754 2223.88 263.018 Q2226.2 261.281 2226.2 257.971 Q2226.2 254.916 2224.04 253.203 Q2221.91 251.467 2218.1 251.467 L2214.07 251.467 L2214.07 247.624 L2218.28 247.624 Q2221.73 247.624 2223.56 246.258 Q2225.39 244.87 2225.39 242.277 Q2225.39 239.615 2223.49 238.203 Q2221.61 236.768 2218.1 236.768 Q2216.17 236.768 2213.98 237.184 Q2211.78 237.601 2209.14 238.481 L2209.14 234.314 Q2211.8 233.573 2214.11 233.203 Q2216.45 232.833 2218.51 232.833 Q2223.84 232.833 2226.94 235.263 Q2230.04 237.67 2230.04 241.791 Q2230.04 244.661 2228.4 246.652 Q2226.75 248.62 2223.72 249.383 Z\" fill=\"#000000\" fill-rule=\"evenodd\" fill-opacity=\"1\" /><circle clip-path=\"url(#clip630)\" cx=\"2081.22\" cy=\"302.578\" r=\"23\" fill=\"#c271d2\" fill-rule=\"evenodd\" fill-opacity=\"1\" stroke=\"#000000\" stroke-opacity=\"1\" stroke-width=\"5.12\"/>\n",
       "<path clip-path=\"url(#clip630)\" d=\"M2191.68 322.265 Q2189.88 326.895 2188.17 328.307 Q2186.45 329.719 2183.58 329.719 L2180.18 329.719 L2180.18 326.154 L2182.68 326.154 Q2184.44 326.154 2185.41 325.32 Q2186.38 324.487 2187.56 321.385 L2188.33 319.441 L2177.84 293.932 L2182.35 293.932 L2190.46 314.209 L2198.56 293.932 L2203.07 293.932 L2191.68 322.265 Z\" fill=\"#000000\" fill-rule=\"evenodd\" fill-opacity=\"1\" /><path clip-path=\"url(#clip630)\" d=\"M2222.4 289.372 L2210.6 307.821 L2222.4 307.821 L2222.4 289.372 M2221.17 285.298 L2227.05 285.298 L2227.05 307.821 L2231.98 307.821 L2231.98 311.709 L2227.05 311.709 L2227.05 319.858 L2222.4 319.858 L2222.4 311.709 L2206.8 311.709 L2206.8 307.196 L2221.17 285.298 Z\" fill=\"#000000\" fill-rule=\"evenodd\" fill-opacity=\"1\" /></svg>\n"
      ]
     },
     "metadata": {},
     "output_type": "display_data"
    },
    {
     "name": "stdout",
     "output_type": "stream",
     "text": [
      "Academic license - for non-commercial use only - expires 2022-01-25\r\n",
      "Gurobi Optimizer version 9.1.2 build v9.1.2rc0 (win64)\r\n",
      "Thread count: 8 physical cores, 16 logical processors, using up to 16 threads\r\n",
      "Optimize a model with 51 rows, 338 columns and 1001 nonzeros\r\n",
      "Model fingerprint: 0xe8a5375f\r\n",
      "Model has 3900 quadratic constraints\r\n",
      "Variable types: 0 continuous, 338 integer (338 binary)\r\n",
      "Coefficient statistics:\r\n",
      "  Matrix range     [1e+00, 8e+00]\r\n",
      "  QMatrix range    [2e-01, 4e+01]\r\n",
      "  Objective range  [1e+00, 1e+00]\r\n",
      "  Bounds range     [0e+00, 0e+00]\r\n",
      "  RHS range        [1e+00, 1e+00]\r\n",
      "  QRHS range       [1e+01, 1e+01]\r\n",
      "Presolve time: 0.06s\r\n",
      "Presolved: 4627 rows, 2626 columns, 10153 nonzeros\r\n",
      "Variable types: 0 continuous, 2626 integer (2626 binary)\r\n",
      "Found heuristic solution: objective 12.0000000\r\n",
      "Found heuristic solution: objective 11.0000000\r\n",
      "\r\n",
      "Root relaxation: objective 4.000000e+00, 1094 iterations, 0.05 seconds\r\n",
      "\r\n",
      "    Nodes    |    Current Node    |     Objective Bounds      |     Work\r\n",
      " Expl Unexpl |  Obj  Depth IntInf | Incumbent    BestBd   Gap | It/Node Time\r\n",
      "\r\n",
      "H    0     0                       4.0000000    0.00000   100%     -    0s\r\n",
      "     0     0          -    0         4.00000    4.00000  0.00%     -    0s\r\n",
      "\r\n",
      "Explored 1 nodes (1241 simplex iterations) in 0.14 seconds\r\n",
      "Thread count was 16 (of 16 available processors)\r\n",
      "\r\n",
      "Solution count 3: 4 11 12 \r\n",
      "\r\n",
      "Optimal solution found (tolerance 1.00e-04)\r\n",
      "Best objective 4.000000000000e+00, best bound 4.000000000000e+00, gap 0.0000%\r\n",
      "\r\n",
      "User-callback calls 124, time in user-callback 0.00 sec\r\n"
     ]
    }
   ],
   "source": [
    "data_1 = get_data(1)\n",
    "dist_matrix_1 = get_dist_matrix(data_1)\n",
    "max_clients_1, n_max_1, n_min_1, d_max_1, max_depots_1 = get_constraints(data_1, 1)\n",
    "model_1 = get_new_model()\n",
    "x_1 = add_x(model_1, max_depots_1, max_clients_1)\n",
    "y_1 = add_y(model_1, max_depots_1)\n",
    "add_objective(model_1, y_1)\n",
    "add_constraint_1(model_1, max_clients_1, n_max_1, n_min_1, d_max_1, max_depots_1, dist_matrix_1, x_1, y_1)\n",
    "add_constraint_2(model_1, max_clients_1, n_max_1, n_min_1, d_max_1, max_depots_1, dist_matrix_1, x_1, y_1)\n",
    "add_constraint_3(model_1, max_clients_1, n_max_1, n_min_1, d_max_1, max_depots_1, dist_matrix_1, x_1, y_1)\n",
    "add_constraint_4(model_1, max_clients_1, n_max_1, n_min_1, d_max_1, max_depots_1, dist_matrix_1, x_1, y_1)\n",
    "optimize!(model_1)\n",
    "if(has_values(model_1))\n",
    "    plot_results(data_1, x_1, y_1)\n",
    "end"
   ]
  },
  {
   "cell_type": "markdown",
   "metadata": {},
   "source": [
    "## Instance 2"
   ]
  },
  {
   "cell_type": "code",
   "execution_count": 15,
   "metadata": {},
   "outputs": [
    {
     "data": {
      "image/svg+xml": [
       "<?xml version=\"1.0\" encoding=\"utf-8\"?>\n",
       "<svg xmlns=\"http://www.w3.org/2000/svg\" xmlns:xlink=\"http://www.w3.org/1999/xlink\" width=\"600\" height=\"400\" viewBox=\"0 0 2400 1600\">\n",
       "<defs>\n",
       "  <clipPath id=\"clip670\">\n",
       "    <rect x=\"0\" y=\"0\" width=\"2400\" height=\"1600\"/>\n",
       "  </clipPath>\n",
       "</defs>\n",
       "<path clip-path=\"url(#clip670)\" d=\"\n",
       "M0 1600 L2400 1600 L2400 0 L0 0  Z\n",
       "  \" fill=\"#ffffff\" fill-rule=\"evenodd\" fill-opacity=\"1\"/>\n",
       "<defs>\n",
       "  <clipPath id=\"clip671\">\n",
       "    <rect x=\"480\" y=\"0\" width=\"1681\" height=\"1600\"/>\n",
       "  </clipPath>\n",
       "</defs>\n",
       "<path clip-path=\"url(#clip670)\" d=\"\n",
       "M178.867 1486.45 L2352.76 1486.45 L2352.76 47.2441 L178.867 47.2441  Z\n",
       "  \" fill=\"#ffffff\" fill-rule=\"evenodd\" fill-opacity=\"1\"/>\n",
       "<defs>\n",
       "  <clipPath id=\"clip672\">\n",
       "    <rect x=\"178\" y=\"47\" width=\"2175\" height=\"1440\"/>\n",
       "  </clipPath>\n",
       "</defs>\n",
       "<polyline clip-path=\"url(#clip672)\" style=\"stroke:#000000; stroke-linecap:butt; stroke-linejoin:round; stroke-width:2; stroke-opacity:0.1; fill:none\" points=\"\n",
       "  602.503,1486.45 602.503,47.2441 \n",
       "  \"/>\n",
       "<polyline clip-path=\"url(#clip672)\" style=\"stroke:#000000; stroke-linecap:butt; stroke-linejoin:round; stroke-width:2; stroke-opacity:0.1; fill:none\" points=\"\n",
       "  1046.32,1486.45 1046.32,47.2441 \n",
       "  \"/>\n",
       "<polyline clip-path=\"url(#clip672)\" style=\"stroke:#000000; stroke-linecap:butt; stroke-linejoin:round; stroke-width:2; stroke-opacity:0.1; fill:none\" points=\"\n",
       "  1490.13,1486.45 1490.13,47.2441 \n",
       "  \"/>\n",
       "<polyline clip-path=\"url(#clip672)\" style=\"stroke:#000000; stroke-linecap:butt; stroke-linejoin:round; stroke-width:2; stroke-opacity:0.1; fill:none\" points=\"\n",
       "  1933.95,1486.45 1933.95,47.2441 \n",
       "  \"/>\n",
       "<polyline clip-path=\"url(#clip670)\" style=\"stroke:#000000; stroke-linecap:butt; stroke-linejoin:round; stroke-width:4; stroke-opacity:1; fill:none\" points=\"\n",
       "  178.867,1486.45 2352.76,1486.45 \n",
       "  \"/>\n",
       "<polyline clip-path=\"url(#clip670)\" style=\"stroke:#000000; stroke-linecap:butt; stroke-linejoin:round; stroke-width:4; stroke-opacity:1; fill:none\" points=\"\n",
       "  602.503,1486.45 602.503,1467.55 \n",
       "  \"/>\n",
       "<polyline clip-path=\"url(#clip670)\" style=\"stroke:#000000; stroke-linecap:butt; stroke-linejoin:round; stroke-width:4; stroke-opacity:1; fill:none\" points=\"\n",
       "  1046.32,1486.45 1046.32,1467.55 \n",
       "  \"/>\n",
       "<polyline clip-path=\"url(#clip670)\" style=\"stroke:#000000; stroke-linecap:butt; stroke-linejoin:round; stroke-width:4; stroke-opacity:1; fill:none\" points=\"\n",
       "  1490.13,1486.45 1490.13,1467.55 \n",
       "  \"/>\n",
       "<polyline clip-path=\"url(#clip670)\" style=\"stroke:#000000; stroke-linecap:butt; stroke-linejoin:round; stroke-width:4; stroke-opacity:1; fill:none\" points=\"\n",
       "  1933.95,1486.45 1933.95,1467.55 \n",
       "  \"/>\n",
       "<path clip-path=\"url(#clip670)\" d=\"M556.566 1532.02 L586.242 1532.02 L586.242 1535.95 L556.566 1535.95 L556.566 1532.02 Z\" fill=\"#000000\" fill-rule=\"evenodd\" fill-opacity=\"1\" /><path clip-path=\"url(#clip670)\" d=\"M597.145 1544.91 L604.784 1544.91 L604.784 1518.55 L596.473 1520.21 L596.473 1515.95 L604.737 1514.29 L609.413 1514.29 L609.413 1544.91 L617.052 1544.91 L617.052 1548.85 L597.145 1548.85 L597.145 1544.91 Z\" fill=\"#000000\" fill-rule=\"evenodd\" fill-opacity=\"1\" /><path clip-path=\"url(#clip670)\" d=\"M636.496 1517.37 Q632.885 1517.37 631.057 1520.93 Q629.251 1524.47 629.251 1531.6 Q629.251 1538.71 631.057 1542.27 Q632.885 1545.82 636.496 1545.82 Q640.131 1545.82 641.936 1542.27 Q643.765 1538.71 643.765 1531.6 Q643.765 1524.47 641.936 1520.93 Q640.131 1517.37 636.496 1517.37 M636.496 1513.66 Q642.306 1513.66 645.362 1518.27 Q648.441 1522.85 648.441 1531.6 Q648.441 1540.33 645.362 1544.94 Q642.306 1549.52 636.496 1549.52 Q630.686 1549.52 627.607 1544.94 Q624.552 1540.33 624.552 1531.6 Q624.552 1522.85 627.607 1518.27 Q630.686 1513.66 636.496 1513.66 Z\" fill=\"#000000\" fill-rule=\"evenodd\" fill-opacity=\"1\" /><path clip-path=\"url(#clip670)\" d=\"M1015.96 1532.02 L1045.64 1532.02 L1045.64 1535.95 L1015.96 1535.95 L1015.96 1532.02 Z\" fill=\"#000000\" fill-rule=\"evenodd\" fill-opacity=\"1\" /><path clip-path=\"url(#clip670)\" d=\"M1055.77 1514.29 L1074.13 1514.29 L1074.13 1518.22 L1060.06 1518.22 L1060.06 1526.7 Q1061.08 1526.35 1062.09 1526.19 Q1063.11 1526 1064.13 1526 Q1069.92 1526 1073.3 1529.17 Q1076.68 1532.34 1076.68 1537.76 Q1076.68 1543.34 1073.21 1546.44 Q1069.73 1549.52 1063.41 1549.52 Q1061.24 1549.52 1058.97 1549.15 Q1056.72 1548.78 1054.32 1548.04 L1054.32 1543.34 Q1056.4 1544.47 1058.62 1545.03 Q1060.84 1545.58 1063.32 1545.58 Q1067.33 1545.58 1069.66 1543.48 Q1072 1541.37 1072 1537.76 Q1072 1534.15 1069.66 1532.04 Q1067.33 1529.94 1063.32 1529.94 Q1061.45 1529.94 1059.57 1530.35 Q1057.72 1530.77 1055.77 1531.65 L1055.77 1514.29 Z\" fill=\"#000000\" fill-rule=\"evenodd\" fill-opacity=\"1\" /><path clip-path=\"url(#clip670)\" d=\"M1490.13 1517.37 Q1486.52 1517.37 1484.69 1520.93 Q1482.89 1524.47 1482.89 1531.6 Q1482.89 1538.71 1484.69 1542.27 Q1486.52 1545.82 1490.13 1545.82 Q1493.77 1545.82 1495.57 1542.27 Q1497.4 1538.71 1497.4 1531.6 Q1497.4 1524.47 1495.57 1520.93 Q1493.77 1517.37 1490.13 1517.37 M1490.13 1513.66 Q1495.94 1513.66 1499 1518.27 Q1502.08 1522.85 1502.08 1531.6 Q1502.08 1540.33 1499 1544.94 Q1495.94 1549.52 1490.13 1549.52 Q1484.32 1549.52 1481.25 1544.94 Q1478.19 1540.33 1478.19 1531.6 Q1478.19 1522.85 1481.25 1518.27 Q1484.32 1513.66 1490.13 1513.66 Z\" fill=\"#000000\" fill-rule=\"evenodd\" fill-opacity=\"1\" /><path clip-path=\"url(#clip670)\" d=\"M1924.23 1514.29 L1942.58 1514.29 L1942.58 1518.22 L1928.51 1518.22 L1928.51 1526.7 Q1929.53 1526.35 1930.55 1526.19 Q1931.57 1526 1932.58 1526 Q1938.37 1526 1941.75 1529.17 Q1945.13 1532.34 1945.13 1537.76 Q1945.13 1543.34 1941.66 1546.44 Q1938.19 1549.52 1931.87 1549.52 Q1929.69 1549.52 1927.42 1549.15 Q1925.18 1548.78 1922.77 1548.04 L1922.77 1543.34 Q1924.85 1544.47 1927.08 1545.03 Q1929.3 1545.58 1931.77 1545.58 Q1935.78 1545.58 1938.12 1543.48 Q1940.45 1541.37 1940.45 1537.76 Q1940.45 1534.15 1938.12 1532.04 Q1935.78 1529.94 1931.77 1529.94 Q1929.9 1529.94 1928.02 1530.35 Q1926.17 1530.77 1924.23 1531.65 L1924.23 1514.29 Z\" fill=\"#000000\" fill-rule=\"evenodd\" fill-opacity=\"1\" /><polyline clip-path=\"url(#clip672)\" style=\"stroke:#000000; stroke-linecap:butt; stroke-linejoin:round; stroke-width:2; stroke-opacity:0.1; fill:none\" points=\"\n",
       "  178.867,1446.08 2352.76,1446.08 \n",
       "  \"/>\n",
       "<polyline clip-path=\"url(#clip672)\" style=\"stroke:#000000; stroke-linecap:butt; stroke-linejoin:round; stroke-width:2; stroke-opacity:0.1; fill:none\" points=\"\n",
       "  178.867,1107.04 2352.76,1107.04 \n",
       "  \"/>\n",
       "<polyline clip-path=\"url(#clip672)\" style=\"stroke:#000000; stroke-linecap:butt; stroke-linejoin:round; stroke-width:2; stroke-opacity:0.1; fill:none\" points=\"\n",
       "  178.867,767.993 2352.76,767.993 \n",
       "  \"/>\n",
       "<polyline clip-path=\"url(#clip672)\" style=\"stroke:#000000; stroke-linecap:butt; stroke-linejoin:round; stroke-width:2; stroke-opacity:0.1; fill:none\" points=\"\n",
       "  178.867,428.951 2352.76,428.951 \n",
       "  \"/>\n",
       "<polyline clip-path=\"url(#clip672)\" style=\"stroke:#000000; stroke-linecap:butt; stroke-linejoin:round; stroke-width:2; stroke-opacity:0.1; fill:none\" points=\"\n",
       "  178.867,89.9082 2352.76,89.9082 \n",
       "  \"/>\n",
       "<polyline clip-path=\"url(#clip670)\" style=\"stroke:#000000; stroke-linecap:butt; stroke-linejoin:round; stroke-width:4; stroke-opacity:1; fill:none\" points=\"\n",
       "  178.867,1486.45 178.867,47.2441 \n",
       "  \"/>\n",
       "<polyline clip-path=\"url(#clip670)\" style=\"stroke:#000000; stroke-linecap:butt; stroke-linejoin:round; stroke-width:4; stroke-opacity:1; fill:none\" points=\"\n",
       "  178.867,1446.08 197.764,1446.08 \n",
       "  \"/>\n",
       "<polyline clip-path=\"url(#clip670)\" style=\"stroke:#000000; stroke-linecap:butt; stroke-linejoin:round; stroke-width:4; stroke-opacity:1; fill:none\" points=\"\n",
       "  178.867,1107.04 197.764,1107.04 \n",
       "  \"/>\n",
       "<polyline clip-path=\"url(#clip670)\" style=\"stroke:#000000; stroke-linecap:butt; stroke-linejoin:round; stroke-width:4; stroke-opacity:1; fill:none\" points=\"\n",
       "  178.867,767.993 197.764,767.993 \n",
       "  \"/>\n",
       "<polyline clip-path=\"url(#clip670)\" style=\"stroke:#000000; stroke-linecap:butt; stroke-linejoin:round; stroke-width:4; stroke-opacity:1; fill:none\" points=\"\n",
       "  178.867,428.951 197.764,428.951 \n",
       "  \"/>\n",
       "<polyline clip-path=\"url(#clip670)\" style=\"stroke:#000000; stroke-linecap:butt; stroke-linejoin:round; stroke-width:4; stroke-opacity:1; fill:none\" points=\"\n",
       "  178.867,89.9082 197.764,89.9082 \n",
       "  \"/>\n",
       "<path clip-path=\"url(#clip670)\" d=\"M51.9875 1446.53 L81.6633 1446.53 L81.6633 1450.46 L51.9875 1450.46 L51.9875 1446.53 Z\" fill=\"#000000\" fill-rule=\"evenodd\" fill-opacity=\"1\" /><path clip-path=\"url(#clip670)\" d=\"M92.566 1459.42 L100.205 1459.42 L100.205 1433.06 L91.8947 1434.72 L91.8947 1430.46 L100.159 1428.8 L104.834 1428.8 L104.834 1459.42 L112.473 1459.42 L112.473 1463.36 L92.566 1463.36 L92.566 1459.42 Z\" fill=\"#000000\" fill-rule=\"evenodd\" fill-opacity=\"1\" /><path clip-path=\"url(#clip670)\" d=\"M121.964 1428.8 L140.32 1428.8 L140.32 1432.73 L126.246 1432.73 L126.246 1441.21 Q127.265 1440.86 128.283 1440.7 Q129.302 1440.51 130.32 1440.51 Q136.107 1440.51 139.487 1443.68 Q142.867 1446.85 142.867 1452.27 Q142.867 1457.85 139.394 1460.95 Q135.922 1464.03 129.603 1464.03 Q127.427 1464.03 125.158 1463.66 Q122.913 1463.29 120.506 1462.55 L120.506 1457.85 Q122.589 1458.98 124.811 1459.54 Q127.033 1460.09 129.51 1460.09 Q133.515 1460.09 135.853 1457.99 Q138.191 1455.88 138.191 1452.27 Q138.191 1448.66 135.853 1446.55 Q133.515 1444.45 129.51 1444.45 Q127.635 1444.45 125.76 1444.86 Q123.908 1445.28 121.964 1446.16 L121.964 1428.8 Z\" fill=\"#000000\" fill-rule=\"evenodd\" fill-opacity=\"1\" /><path clip-path=\"url(#clip670)\" d=\"M50.9921 1107.49 L80.6679 1107.49 L80.6679 1111.42 L50.9921 1111.42 L50.9921 1107.49 Z\" fill=\"#000000\" fill-rule=\"evenodd\" fill-opacity=\"1\" /><path clip-path=\"url(#clip670)\" d=\"M91.5706 1120.38 L99.2095 1120.38 L99.2095 1094.01 L90.8993 1095.68 L90.8993 1091.42 L99.1632 1089.76 L103.839 1089.76 L103.839 1120.38 L111.478 1120.38 L111.478 1124.32 L91.5706 1124.32 L91.5706 1120.38 Z\" fill=\"#000000\" fill-rule=\"evenodd\" fill-opacity=\"1\" /><path clip-path=\"url(#clip670)\" d=\"M130.922 1092.83 Q127.311 1092.83 125.482 1096.4 Q123.677 1099.94 123.677 1107.07 Q123.677 1114.18 125.482 1117.74 Q127.311 1121.28 130.922 1121.28 Q134.556 1121.28 136.362 1117.74 Q138.191 1114.18 138.191 1107.07 Q138.191 1099.94 136.362 1096.4 Q134.556 1092.83 130.922 1092.83 M130.922 1089.13 Q136.732 1089.13 139.788 1093.74 Q142.867 1098.32 142.867 1107.07 Q142.867 1115.8 139.788 1120.4 Q136.732 1124.99 130.922 1124.99 Q125.112 1124.99 122.033 1120.4 Q118.978 1115.8 118.978 1107.07 Q118.978 1098.32 122.033 1093.74 Q125.112 1089.13 130.922 1089.13 Z\" fill=\"#000000\" fill-rule=\"evenodd\" fill-opacity=\"1\" /><path clip-path=\"url(#clip670)\" d=\"M82.1494 768.445 L111.825 768.445 L111.825 772.38 L82.1494 772.38 L82.1494 768.445 Z\" fill=\"#000000\" fill-rule=\"evenodd\" fill-opacity=\"1\" /><path clip-path=\"url(#clip670)\" d=\"M121.964 750.713 L140.32 750.713 L140.32 754.648 L126.246 754.648 L126.246 763.12 Q127.265 762.773 128.283 762.611 Q129.302 762.426 130.32 762.426 Q136.107 762.426 139.487 765.597 Q142.867 768.769 142.867 774.185 Q142.867 779.764 139.394 782.866 Q135.922 785.944 129.603 785.944 Q127.427 785.944 125.158 785.574 Q122.913 785.204 120.506 784.463 L120.506 779.764 Q122.589 780.898 124.811 781.454 Q127.033 782.009 129.51 782.009 Q133.515 782.009 135.853 779.903 Q138.191 777.796 138.191 774.185 Q138.191 770.574 135.853 768.468 Q133.515 766.361 129.51 766.361 Q127.635 766.361 125.76 766.778 Q123.908 767.195 121.964 768.074 L121.964 750.713 Z\" fill=\"#000000\" fill-rule=\"evenodd\" fill-opacity=\"1\" /><path clip-path=\"url(#clip670)\" d=\"M130.922 414.749 Q127.311 414.749 125.482 418.314 Q123.677 421.856 123.677 428.985 Q123.677 436.092 125.482 439.657 Q127.311 443.198 130.922 443.198 Q134.556 443.198 136.362 439.657 Q138.191 436.092 138.191 428.985 Q138.191 421.856 136.362 418.314 Q134.556 414.749 130.922 414.749 M130.922 411.046 Q136.732 411.046 139.788 415.652 Q142.867 420.235 142.867 428.985 Q142.867 437.712 139.788 442.319 Q136.732 446.902 130.922 446.902 Q125.112 446.902 122.033 442.319 Q118.978 437.712 118.978 428.985 Q118.978 420.235 122.033 415.652 Q125.112 411.046 130.922 411.046 Z\" fill=\"#000000\" fill-rule=\"evenodd\" fill-opacity=\"1\" /><path clip-path=\"url(#clip670)\" d=\"M121.964 72.6282 L140.32 72.6282 L140.32 76.5634 L126.246 76.5634 L126.246 85.0356 Q127.265 84.6884 128.283 84.5263 Q129.302 84.3411 130.32 84.3411 Q136.107 84.3411 139.487 87.5124 Q142.867 90.6837 142.867 96.1003 Q142.867 101.679 139.394 104.781 Q135.922 107.86 129.603 107.86 Q127.427 107.86 125.158 107.489 Q122.913 107.119 120.506 106.378 L120.506 101.679 Q122.589 102.813 124.811 103.369 Q127.033 103.924 129.51 103.924 Q133.515 103.924 135.853 101.818 Q138.191 99.7114 138.191 96.1003 Q138.191 92.4892 135.853 90.3828 Q133.515 88.2763 129.51 88.2763 Q127.635 88.2763 125.76 88.693 Q123.908 89.1096 121.964 89.9893 L121.964 72.6282 Z\" fill=\"#000000\" fill-rule=\"evenodd\" fill-opacity=\"1\" /><circle clip-path=\"url(#clip672)\" cx=\"339.252\" cy=\"494.579\" r=\"14\" fill=\"#009af9\" fill-rule=\"evenodd\" fill-opacity=\"1\" stroke=\"#000000\" stroke-opacity=\"1\" stroke-width=\"3.2\"/>\n",
       "<circle clip-path=\"url(#clip672)\" cx=\"240.392\" cy=\"490.591\" r=\"14\" fill=\"#009af9\" fill-rule=\"evenodd\" fill-opacity=\"1\" stroke=\"#000000\" stroke-opacity=\"1\" stroke-width=\"3.2\"/>\n",
       "<circle clip-path=\"url(#clip672)\" cx=\"509.807\" cy=\"361.635\" r=\"14\" fill=\"#009af9\" fill-rule=\"evenodd\" fill-opacity=\"1\" stroke=\"#000000\" stroke-opacity=\"1\" stroke-width=\"3.2\"/>\n",
       "<circle clip-path=\"url(#clip672)\" cx=\"342.833\" cy=\"357.686\" r=\"14\" fill=\"#009af9\" fill-rule=\"evenodd\" fill-opacity=\"1\" stroke=\"#000000\" stroke-opacity=\"1\" stroke-width=\"3.2\"/>\n",
       "<circle clip-path=\"url(#clip672)\" cx=\"426.609\" cy=\"358.763\" r=\"14\" fill=\"#009af9\" fill-rule=\"evenodd\" fill-opacity=\"1\" stroke=\"#000000\" stroke-opacity=\"1\" stroke-width=\"3.2\"/>\n",
       "<circle clip-path=\"url(#clip672)\" cx=\"1488.05\" cy=\"700.21\" r=\"14\" fill=\"#e26f46\" fill-rule=\"evenodd\" fill-opacity=\"1\" stroke=\"#000000\" stroke-opacity=\"1\" stroke-width=\"3.2\"/>\n",
       "<circle clip-path=\"url(#clip672)\" cx=\"1047.15\" cy=\"365.682\" r=\"14\" fill=\"#e26f46\" fill-rule=\"evenodd\" fill-opacity=\"1\" stroke=\"#000000\" stroke-opacity=\"1\" stroke-width=\"3.2\"/>\n",
       "<circle clip-path=\"url(#clip672)\" cx=\"1320.5\" cy=\"769.256\" r=\"14\" fill=\"#e26f46\" fill-rule=\"evenodd\" fill-opacity=\"1\" stroke=\"#000000\" stroke-opacity=\"1\" stroke-width=\"3.2\"/>\n",
       "<circle clip-path=\"url(#clip672)\" cx=\"1048.62\" cy=\"497.567\" r=\"14\" fill=\"#e26f46\" fill-rule=\"evenodd\" fill-opacity=\"1\" stroke=\"#000000\" stroke-opacity=\"1\" stroke-width=\"3.2\"/>\n",
       "<circle clip-path=\"url(#clip672)\" cx=\"1130\" cy=\"698.934\" r=\"14\" fill=\"#e26f46\" fill-rule=\"evenodd\" fill-opacity=\"1\" stroke=\"#000000\" stroke-opacity=\"1\" stroke-width=\"3.2\"/>\n",
       "<circle clip-path=\"url(#clip672)\" cx=\"1567.17\" cy=\"1445.72\" r=\"14\" fill=\"#3da44d\" fill-rule=\"evenodd\" fill-opacity=\"1\" stroke=\"#000000\" stroke-opacity=\"1\" stroke-width=\"3.2\"/>\n",
       "<circle clip-path=\"url(#clip672)\" cx=\"1402.06\" cy=\"1444.17\" r=\"14\" fill=\"#3da44d\" fill-rule=\"evenodd\" fill-opacity=\"1\" stroke=\"#000000\" stroke-opacity=\"1\" stroke-width=\"3.2\"/>\n",
       "<circle clip-path=\"url(#clip672)\" cx=\"1672.46\" cy=\"1443.77\" r=\"14\" fill=\"#3da44d\" fill-rule=\"evenodd\" fill-opacity=\"1\" stroke=\"#000000\" stroke-opacity=\"1\" stroke-width=\"3.2\"/>\n",
       "<circle clip-path=\"url(#clip672)\" cx=\"1317.06\" cy=\"1444.15\" r=\"14\" fill=\"#3da44d\" fill-rule=\"evenodd\" fill-opacity=\"1\" stroke=\"#000000\" stroke-opacity=\"1\" stroke-width=\"3.2\"/>\n",
       "<circle clip-path=\"url(#clip672)\" cx=\"2107.68\" cy=\"290.769\" r=\"14\" fill=\"#c271d2\" fill-rule=\"evenodd\" fill-opacity=\"1\" stroke=\"#000000\" stroke-opacity=\"1\" stroke-width=\"3.2\"/>\n",
       "<circle clip-path=\"url(#clip672)\" cx=\"2197.1\" cy=\"559.102\" r=\"14\" fill=\"#c271d2\" fill-rule=\"evenodd\" fill-opacity=\"1\" stroke=\"#000000\" stroke-opacity=\"1\" stroke-width=\"3.2\"/>\n",
       "<circle clip-path=\"url(#clip672)\" cx=\"2110.52\" cy=\"561.434\" r=\"14\" fill=\"#c271d2\" fill-rule=\"evenodd\" fill-opacity=\"1\" stroke=\"#000000\" stroke-opacity=\"1\" stroke-width=\"3.2\"/>\n",
       "<circle clip-path=\"url(#clip672)\" cx=\"2195.57\" cy=\"293.039\" r=\"14\" fill=\"#c271d2\" fill-rule=\"evenodd\" fill-opacity=\"1\" stroke=\"#000000\" stroke-opacity=\"1\" stroke-width=\"3.2\"/>\n",
       "<circle clip-path=\"url(#clip672)\" cx=\"2291.23\" cy=\"296.22\" r=\"14\" fill=\"#c271d2\" fill-rule=\"evenodd\" fill-opacity=\"1\" stroke=\"#000000\" stroke-opacity=\"1\" stroke-width=\"3.2\"/>\n",
       "<circle clip-path=\"url(#clip672)\" cx=\"2271.8\" cy=\"567.707\" r=\"14\" fill=\"#c271d2\" fill-rule=\"evenodd\" fill-opacity=\"1\" stroke=\"#000000\" stroke-opacity=\"1\" stroke-width=\"3.2\"/>\n",
       "<circle clip-path=\"url(#clip672)\" cx=\"1488.16\" cy=\"88.9445\" r=\"14\" fill=\"#ac8d18\" fill-rule=\"evenodd\" fill-opacity=\"1\" stroke=\"#000000\" stroke-opacity=\"1\" stroke-width=\"3.2\"/>\n",
       "<circle clip-path=\"url(#clip672)\" cx=\"1666.33\" cy=\"94.7296\" r=\"14\" fill=\"#ac8d18\" fill-rule=\"evenodd\" fill-opacity=\"1\" stroke=\"#000000\" stroke-opacity=\"1\" stroke-width=\"3.2\"/>\n",
       "<circle clip-path=\"url(#clip672)\" cx=\"1312.73\" cy=\"87.9763\" r=\"14\" fill=\"#ac8d18\" fill-rule=\"evenodd\" fill-opacity=\"1\" stroke=\"#000000\" stroke-opacity=\"1\" stroke-width=\"3.2\"/>\n",
       "<circle clip-path=\"url(#clip672)\" cx=\"1935.77\" cy=\"430.196\" r=\"14\" fill=\"#ac8d18\" fill-rule=\"evenodd\" fill-opacity=\"1\" stroke=\"#000000\" stroke-opacity=\"1\" stroke-width=\"3.2\"/>\n",
       "<circle clip-path=\"url(#clip672)\" cx=\"1487.67\" cy=\"292.763\" r=\"14\" fill=\"#ac8d18\" fill-rule=\"evenodd\" fill-opacity=\"1\" stroke=\"#000000\" stroke-opacity=\"1\" stroke-width=\"3.2\"/>\n",
       "<path clip-path=\"url(#clip670)\" d=\"\n",
       "M1984.61 406.258 L2280.29 406.258 L2280.29 95.2176 L1984.61 95.2176  Z\n",
       "  \" fill=\"#ffffff\" fill-rule=\"evenodd\" fill-opacity=\"1\"/>\n",
       "<polyline clip-path=\"url(#clip670)\" style=\"stroke:#000000; stroke-linecap:butt; stroke-linejoin:round; stroke-width:4; stroke-opacity:1; fill:none\" points=\"\n",
       "  1984.61,406.258 2280.29,406.258 2280.29,95.2176 1984.61,95.2176 1984.61,406.258 \n",
       "  \"/>\n",
       "<circle clip-path=\"url(#clip670)\" cx=\"2081.22\" cy=\"147.058\" r=\"23\" fill=\"#009af9\" fill-rule=\"evenodd\" fill-opacity=\"1\" stroke=\"#000000\" stroke-opacity=\"1\" stroke-width=\"5.12\"/>\n",
       "<path clip-path=\"url(#clip670)\" d=\"M2191.68 166.745 Q2189.88 171.375 2188.17 172.787 Q2186.45 174.199 2183.58 174.199 L2180.18 174.199 L2180.18 170.634 L2182.68 170.634 Q2184.44 170.634 2185.41 169.8 Q2186.38 168.967 2187.56 165.865 L2188.33 163.921 L2177.84 138.412 L2182.35 138.412 L2190.46 158.689 L2198.56 138.412 L2203.07 138.412 L2191.68 166.745 Z\" fill=\"#000000\" fill-rule=\"evenodd\" fill-opacity=\"1\" /><path clip-path=\"url(#clip670)\" d=\"M2210.36 160.402 L2218 160.402 L2218 134.037 L2209.69 135.703 L2209.69 131.444 L2217.96 129.778 L2222.63 129.778 L2222.63 160.402 L2230.27 160.402 L2230.27 164.338 L2210.36 164.338 L2210.36 160.402 Z\" fill=\"#000000\" fill-rule=\"evenodd\" fill-opacity=\"1\" /><circle clip-path=\"url(#clip670)\" cx=\"2081.22\" cy=\"198.898\" r=\"23\" fill=\"#e26f46\" fill-rule=\"evenodd\" fill-opacity=\"1\" stroke=\"#000000\" stroke-opacity=\"1\" stroke-width=\"5.12\"/>\n",
       "<path clip-path=\"url(#clip670)\" d=\"M2191.68 218.585 Q2189.88 223.215 2188.17 224.627 Q2186.45 226.039 2183.58 226.039 L2180.18 226.039 L2180.18 222.474 L2182.68 222.474 Q2184.44 222.474 2185.41 221.64 Q2186.38 220.807 2187.56 217.705 L2188.33 215.761 L2177.84 190.252 L2182.35 190.252 L2190.46 210.529 L2198.56 190.252 L2203.07 190.252 L2191.68 218.585 Z\" fill=\"#000000\" fill-rule=\"evenodd\" fill-opacity=\"1\" /><path clip-path=\"url(#clip670)\" d=\"M2213.58 212.242 L2229.9 212.242 L2229.9 216.178 L2207.96 216.178 L2207.96 212.242 Q2210.62 209.488 2215.2 204.858 Q2219.81 200.205 2220.99 198.863 Q2223.23 196.34 2224.11 194.604 Q2225.02 192.844 2225.02 191.155 Q2225.02 188.4 2223.07 186.664 Q2221.15 184.928 2218.05 184.928 Q2215.85 184.928 2213.4 185.692 Q2210.97 186.455 2208.19 188.006 L2208.19 183.284 Q2211.01 182.15 2213.47 181.571 Q2215.92 180.993 2217.96 180.993 Q2223.33 180.993 2226.52 183.678 Q2229.72 186.363 2229.72 190.854 Q2229.72 192.983 2228.91 194.905 Q2228.12 196.803 2226.01 199.395 Q2225.43 200.067 2222.33 203.284 Q2219.23 206.479 2213.58 212.242 Z\" fill=\"#000000\" fill-rule=\"evenodd\" fill-opacity=\"1\" /><circle clip-path=\"url(#clip670)\" cx=\"2081.22\" cy=\"250.738\" r=\"23\" fill=\"#3da44d\" fill-rule=\"evenodd\" fill-opacity=\"1\" stroke=\"#000000\" stroke-opacity=\"1\" stroke-width=\"5.12\"/>\n",
       "<path clip-path=\"url(#clip670)\" d=\"M2191.68 270.425 Q2189.88 275.055 2188.17 276.467 Q2186.45 277.879 2183.58 277.879 L2180.18 277.879 L2180.18 274.314 L2182.68 274.314 Q2184.44 274.314 2185.41 273.48 Q2186.38 272.647 2187.56 269.545 L2188.33 267.601 L2177.84 242.092 L2182.35 242.092 L2190.46 262.369 L2198.56 242.092 L2203.07 242.092 L2191.68 270.425 Z\" fill=\"#000000\" fill-rule=\"evenodd\" fill-opacity=\"1\" /><path clip-path=\"url(#clip670)\" d=\"M2223.72 249.383 Q2227.08 250.101 2228.95 252.369 Q2230.85 254.638 2230.85 257.971 Q2230.85 263.087 2227.33 265.888 Q2223.81 268.689 2217.33 268.689 Q2215.16 268.689 2212.84 268.249 Q2210.55 267.832 2208.1 266.976 L2208.1 262.462 Q2210.04 263.596 2212.35 264.175 Q2214.67 264.754 2217.19 264.754 Q2221.59 264.754 2223.88 263.018 Q2226.2 261.281 2226.2 257.971 Q2226.2 254.916 2224.04 253.203 Q2221.91 251.467 2218.1 251.467 L2214.07 251.467 L2214.07 247.624 L2218.28 247.624 Q2221.73 247.624 2223.56 246.258 Q2225.39 244.87 2225.39 242.277 Q2225.39 239.615 2223.49 238.203 Q2221.61 236.768 2218.1 236.768 Q2216.17 236.768 2213.98 237.184 Q2211.78 237.601 2209.14 238.481 L2209.14 234.314 Q2211.8 233.573 2214.11 233.203 Q2216.45 232.833 2218.51 232.833 Q2223.84 232.833 2226.94 235.263 Q2230.04 237.67 2230.04 241.791 Q2230.04 244.661 2228.4 246.652 Q2226.75 248.62 2223.72 249.383 Z\" fill=\"#000000\" fill-rule=\"evenodd\" fill-opacity=\"1\" /><circle clip-path=\"url(#clip670)\" cx=\"2081.22\" cy=\"302.578\" r=\"23\" fill=\"#c271d2\" fill-rule=\"evenodd\" fill-opacity=\"1\" stroke=\"#000000\" stroke-opacity=\"1\" stroke-width=\"5.12\"/>\n",
       "<path clip-path=\"url(#clip670)\" d=\"M2191.68 322.265 Q2189.88 326.895 2188.17 328.307 Q2186.45 329.719 2183.58 329.719 L2180.18 329.719 L2180.18 326.154 L2182.68 326.154 Q2184.44 326.154 2185.41 325.32 Q2186.38 324.487 2187.56 321.385 L2188.33 319.441 L2177.84 293.932 L2182.35 293.932 L2190.46 314.209 L2198.56 293.932 L2203.07 293.932 L2191.68 322.265 Z\" fill=\"#000000\" fill-rule=\"evenodd\" fill-opacity=\"1\" /><path clip-path=\"url(#clip670)\" d=\"M2222.4 289.372 L2210.6 307.821 L2222.4 307.821 L2222.4 289.372 M2221.17 285.298 L2227.05 285.298 L2227.05 307.821 L2231.98 307.821 L2231.98 311.709 L2227.05 311.709 L2227.05 319.858 L2222.4 319.858 L2222.4 311.709 L2206.8 311.709 L2206.8 307.196 L2221.17 285.298 Z\" fill=\"#000000\" fill-rule=\"evenodd\" fill-opacity=\"1\" /><circle clip-path=\"url(#clip670)\" cx=\"2081.22\" cy=\"354.418\" r=\"23\" fill=\"#ac8d18\" fill-rule=\"evenodd\" fill-opacity=\"1\" stroke=\"#000000\" stroke-opacity=\"1\" stroke-width=\"5.12\"/>\n",
       "<path clip-path=\"url(#clip670)\" d=\"M2191.68 374.105 Q2189.88 378.735 2188.17 380.147 Q2186.45 381.559 2183.58 381.559 L2180.18 381.559 L2180.18 377.994 L2182.68 377.994 Q2184.44 377.994 2185.41 377.16 Q2186.38 376.327 2187.56 373.225 L2188.33 371.281 L2177.84 345.772 L2182.35 345.772 L2190.46 366.049 L2198.56 345.772 L2203.07 345.772 L2191.68 374.105 Z\" fill=\"#000000\" fill-rule=\"evenodd\" fill-opacity=\"1\" /><path clip-path=\"url(#clip670)\" d=\"M2209.6 337.138 L2227.96 337.138 L2227.96 341.073 L2213.88 341.073 L2213.88 349.545 Q2214.9 349.198 2215.92 349.036 Q2216.94 348.85 2217.96 348.85 Q2223.74 348.85 2227.12 352.022 Q2230.5 355.193 2230.5 360.61 Q2230.5 366.188 2227.03 369.29 Q2223.56 372.369 2217.24 372.369 Q2215.06 372.369 2212.79 371.998 Q2210.55 371.628 2208.14 370.887 L2208.14 366.188 Q2210.23 367.323 2212.45 367.878 Q2214.67 368.434 2217.15 368.434 Q2221.15 368.434 2223.49 366.327 Q2225.83 364.221 2225.83 360.61 Q2225.83 356.999 2223.49 354.892 Q2221.15 352.786 2217.15 352.786 Q2215.27 352.786 2213.4 353.202 Q2211.54 353.619 2209.6 354.499 L2209.6 337.138 Z\" fill=\"#000000\" fill-rule=\"evenodd\" fill-opacity=\"1\" /></svg>\n"
      ]
     },
     "metadata": {},
     "output_type": "display_data"
    },
    {
     "name": "stdout",
     "output_type": "stream",
     "text": [
      "Academic license - for non-commercial use only - expires 2022-01-25\r\n",
      "Gurobi Optimizer version 9.1.2 build v9.1.2rc0 (win64)\r\n",
      "Thread count: 8 physical cores, 16 logical processors, using up to 16 threads\r\n",
      "Optimize a model with 39 rows, 182 columns and 539 nonzeros\r\n",
      "Model fingerprint: 0x5c9a8ada\r\n",
      "Model has 2100 quadratic constraints\r\n",
      "Variable types: 0 continuous, 182 integer (182 binary)\r\n",
      "Coefficient statistics:\r\n",
      "  Matrix range     [1e+00, 6e+00]\r\n",
      "  QMatrix range    [9e-01, 2e+01]\r\n",
      "  Objective range  [1e+00, 1e+00]\r\n",
      "  Bounds range     [0e+00, 0e+00]\r\n",
      "  RHS range        [1e+00, 1e+00]\r\n",
      "  QRHS range       [9e+00, 9e+00]\r\n",
      "Presolve time: 0.04s\r\n",
      "Presolved: 2979 rows, 1652 columns, 6419 nonzeros\r\n",
      "Variable types: 0 continuous, 1652 integer (1652 binary)\r\n",
      "Found heuristic solution: objective 6.0000000\r\n",
      "\r\n",
      "Root relaxation: objective 5.000000e+00, 329 iterations, 0.01 seconds\r\n",
      "\r\n",
      "    Nodes    |    Current Node    |     Objective Bounds      |     Work\r\n",
      " Expl Unexpl |  Obj  Depth IntInf | Incumbent    BestBd   Gap | It/Node Time\r\n",
      "\r\n",
      "*    0     0               0       5.0000000    5.00000  0.00%     -    0s\r\n",
      "\r\n",
      "Explored 1 nodes (449 simplex iterations) in 0.07 seconds\r\n",
      "Thread count was 16 (of 16 available processors)\r\n",
      "\r\n",
      "Solution count 2: 5 6 \r\n",
      "\r\n",
      "Optimal solution found (tolerance 1.00e-04)\r\n",
      "Best objective 5.000000000000e+00, best bound 5.000000000000e+00, gap 0.0000%\r\n",
      "\r\n",
      "User-callback calls 79, time in user-callback 0.00 sec\r\n"
     ]
    }
   ],
   "source": [
    "data_2 = get_data(2)\n",
    "dist_matrix_2 = get_dist_matrix(data_2)\n",
    "max_clients_2, n_max_2, n_min_2, d_max_2, max_depots_2 = get_constraints(data_2, 2)\n",
    "model_2 = get_new_model()\n",
    "x_2 = add_x(model_2, max_depots_2, max_clients_2)\n",
    "y_2 = add_y(model_2, max_depots_2)\n",
    "add_objective(model_2, y_2)\n",
    "add_constraint_1(model_2, max_clients_2, n_max_2, n_min_2, d_max_2, max_depots_2, dist_matrix_2, x_2, y_2)\n",
    "add_constraint_2(model_2, max_clients_2, n_max_2, n_min_2, d_max_2, max_depots_2, dist_matrix_2, x_2, y_2)\n",
    "add_constraint_3(model_2, max_clients_2, n_max_2, n_min_2, d_max_2, max_depots_2, dist_matrix_2, x_2, y_2)\n",
    "add_constraint_4(model_2, max_clients_2, n_max_2, n_min_2, d_max_2, max_depots_2, dist_matrix_2, x_2, y_2)\n",
    "optimize!(model_2)\n",
    "if(has_values(model_2))\n",
    "    plot_results(data_2, x_2, y_2)\n",
    "end"
   ]
  },
  {
   "cell_type": "markdown",
   "metadata": {},
   "source": [
    "## Instance 3"
   ]
  },
  {
   "cell_type": "code",
   "execution_count": 16,
   "metadata": {
    "scrolled": false
   },
   "outputs": [
    {
     "name": "stdout",
     "output_type": "stream",
     "text": [
      "Academic license - for non-commercial use only - expires 2022-01-25\r\n",
      "Gurobi Optimizer version 9.1.2 build v9.1.2rc0 (win64)\r\n",
      "Thread count: 8 physical cores, 16 logical processors, using up to 16 threads\r\n",
      "Optimize a model with 39 rows, 182 columns and 539 nonzeros\r\n",
      "Model fingerprint: 0xecfbc8bd\r\n",
      "Model has 2100 quadratic constraints\r\n",
      "Variable types: 0 continuous, 182 integer (182 binary)\r\n",
      "Coefficient statistics:\r\n",
      "  Matrix range     [1e+00, 6e+00]\r\n",
      "  QMatrix range    [9e-01, 3e+01]\r\n",
      "  Objective range  [1e+00, 1e+00]\r\n",
      "  Bounds range     [0e+00, 0e+00]\r\n",
      "  RHS range        [1e+00, 1e+00]\r\n",
      "  QRHS range       [9e+00, 9e+00]\r\n",
      "Presolve time: 0.04s\r\n",
      "Presolved: 3077 rows, 1701 columns, 6615 nonzeros\r\n",
      "Variable types: 0 continuous, 1701 integer (1701 binary)\r\n",
      "\r\n",
      "Explored 1 nodes (0 simplex iterations) in 0.05 seconds\r\n",
      "Thread count was 16 (of 16 available processors)\r\n",
      "\r\n",
      "Solution count 0\r\n",
      "\r\n",
      "Model is infeasible or unbounded\r\n",
      "Best objective -, best bound -, gap -\r\n",
      "\r\n",
      "User-callback calls 62, time in user-callback 0.00 sec\r\n"
     ]
    }
   ],
   "source": [
    "data_3 = get_data(3)\n",
    "dist_matrix_3 = get_dist_matrix(data_3)\n",
    "max_clients_3, n_max_3, n_min_3, d_max_3, max_depots_3 = get_constraints(data_3, 3)\n",
    "model_3 = get_new_model()\n",
    "x_3 = add_x(model_3, max_depots_3, max_clients_3)\n",
    "y_3 = add_y(model_3, max_depots_3)\n",
    "add_objective(model_3, y_3)\n",
    "add_constraint_1(model_3, max_clients_3, n_max_3, n_min_3, d_max_3, max_depots_3, dist_matrix_3, x_3, y_3)\n",
    "add_constraint_2(model_3, max_clients_3, n_max_3, n_min_3, d_max_3, max_depots_3, dist_matrix_3, x_3, y_3)\n",
    "add_constraint_3(model_3, max_clients_3, n_max_3, n_min_3, d_max_3, max_depots_3, dist_matrix_3, x_3, y_3)\n",
    "add_constraint_4(model_3, max_clients_3, n_max_3, n_min_3, d_max_3, max_depots_3, dist_matrix_3, x_3, y_3)\n",
    "optimize!(model_3)\n",
    "if(has_values(model_3))\n",
    "    plot_results(data_3, x_3, y_3)\n",
    "end"
   ]
  }
 ],
 "metadata": {
  "kernelspec": {
   "display_name": "Julia 1.6.4",
   "language": "julia",
   "name": "julia-1.6"
  },
  "language_info": {
   "file_extension": ".jl",
   "mimetype": "application/julia",
   "name": "julia",
   "version": "1.6.4"
  }
 },
 "nbformat": 4,
 "nbformat_minor": 5
}
