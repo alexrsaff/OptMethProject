{
 "cells": [
  {
   "cell_type": "code",
   "execution_count": 1,
   "id": "48597b24",
   "metadata": {},
   "outputs": [
    {
     "name": "stderr",
     "output_type": "stream",
     "text": [
      "\u001b[32m\u001b[1m    Updating\u001b[22m\u001b[39m registry at `~/.julia/registries/General`\n",
      "\u001b[32m\u001b[1m   Resolving\u001b[22m\u001b[39m package versions...\n",
      "\u001b[32m\u001b[1m  No Changes\u001b[22m\u001b[39m to `~/.julia/environments/v1.6/Project.toml`\n",
      "\u001b[32m\u001b[1m  No Changes\u001b[22m\u001b[39m to `~/.julia/environments/v1.6/Manifest.toml`\n"
     ]
    },
    {
     "data": {
      "text/plain": [
       "\"Initialization done! All set :-)\""
      ]
     },
     "metadata": {},
     "output_type": "display_data"
    },
    {
     "name": "stderr",
     "output_type": "stream",
     "text": [
      "┌ Warning: Everything from AbstractPlotting.jl got moved to Makie.jl. \n",
      "│ Have a look at the README for information on how to upgrade: \n",
      "│ https://github.com/JuliaPlots/AbstractPlotting.jl\n",
      "└ @ AbstractPlotting /Users/mahirk/.julia/packages/AbstractPlotting/2A5iv/src/AbstractPlotting.jl:261\n"
     ]
    }
   ],
   "source": [
    "#Using smth means: pre-compile and load smth as a package.\n",
    "using Pkg;\n",
    "#Set the Gurobi path\n",
    "ENV[\"GUROBI_HOME\"] = \"/Library/gurobi912/macos64/\"\n",
    "#For first timers (comment after): compile Gurobi with the given path\n",
    "#Pkg.build(\"Gurobi\")\n",
    "#Add the packages that may not be installed.\n",
    "Pkg.add([\"Latexify\", \"Polyhedra\", \"Plots\", \"Makie\", \"CDDLib\", \"JuMP\", \"Gurobi\", \"AbstractPlotting\", \"JLD\", \"HDF5\"])\n",
    "#Load the packages\n",
    "using JuMP, Latexify, Gurobi, LinearAlgebra, Polyhedra, CDDLib, Plots, SparseArrays, Makie, AbstractPlotting, JLD, HDF5\n",
    "\n",
    "display(\"Initialization done! All set :-)\")"
   ]
  },
  {
   "cell_type": "code",
   "execution_count": 2,
   "id": "61b89fd0",
   "metadata": {},
   "outputs": [
    {
     "data": {
      "text/plain": [
       "3×3 Matrix{Float64}:\n",
       " 2.0  4.0  5.0\n",
       " 3.0  6.0  8.0\n",
       " 8.0  4.0  9.0"
      ]
     },
     "execution_count": 2,
     "metadata": {},
     "output_type": "execute_result"
    }
   ],
   "source": [
    "C=[2.0 4.0 5.0;\n",
    "   3.0 6.0 8.0; \n",
    "   8.0 4.0 9.0]::Matrix{Float64}"
   ]
  },
  {
   "cell_type": "code",
   "execution_count": 3,
   "id": "90e90264",
   "metadata": {},
   "outputs": [
    {
     "data": {
      "text/plain": [
       "Dict{String, Any} with 1 entry:\n",
       "  \"X\" => [-0.0222192 5.01421; -10.9658 -0.967855; … ; -0.0278013 2.00842; -1.94…"
      ]
     },
     "execution_count": 3,
     "metadata": {},
     "output_type": "execute_result"
    }
   ],
   "source": [
    "data_file_1 = load(\"../data/X1-3.jld\") \n",
    "data_file_2 = load(\"../data/X2-2.jld\")\n",
    "data_file_3 = load(\"../data/X3-2.jld\")"
   ]
  },
  {
   "cell_type": "code",
   "execution_count": 21,
   "id": "52bb4330",
   "metadata": {},
   "outputs": [
    {
     "data": {
      "text/plain": [
       "25×25 Matrix{Float64}:\n",
       "  0.0       3.77298   3.72742   3.15841  …  20.0163   20.9257   20.849\n",
       "  3.77298   0.0       1.12659   2.51381     20.2023   20.9739   21.2089\n",
       "  3.72742   1.12659   0.0       1.54065     19.077    19.8519   20.0823\n",
       "  3.15841   2.51381   1.54065   0.0         17.9704   18.7915   18.9266\n",
       " 35.729    36.4105   35.2849   34.0682      16.3906   15.8484   15.2607\n",
       " 35.3879   36.3019   35.1817   33.9055   …  16.6201   16.2203   15.4032\n",
       " 35.2958   36.0025   34.8773   33.6534      16.0161   15.494    14.8731\n",
       " 37.1451   37.9901   36.8676   35.6102      18.1574   17.6914   16.9745\n",
       " 36.0829   36.9438   35.8219   34.5595      17.156    16.7138   15.9611\n",
       " 35.5065   36.2052   35.0799   33.8584      16.2069   15.6775   15.0685\n",
       " 35.7975   36.5723   35.4484   34.2074   …  16.6639   16.1753   15.4975\n",
       " 35.1814   36.0038   34.8809   33.6272      16.1751   15.7237   14.9871\n",
       " 35.4845   36.6447   35.5351   34.2017      17.4853   17.2304   16.2069\n",
       " 29.0541   29.1899   28.0681   26.999        9.04595   8.21623   8.24913\n",
       " 28.3251   28.2844   27.1684   26.1542       8.34525   7.39938   7.74437\n",
       " 29.3899   29.2164   28.1072   27.1386   …   9.50739   8.50326   9.01009\n",
       " 30.1558   30.0557   28.943    27.9512      10.1981    9.23478   9.60588\n",
       " 28.1982   28.1395   27.0242   26.0157       8.23104   7.27353   7.65426\n",
       " 27.8329   27.6456   26.5364   25.5699       8.00315   6.9746    7.58811\n",
       " 30.6263   30.3964   29.2908   28.3432      10.7837    9.76771  10.3004\n",
       " 21.0763   21.4008   20.2743   19.1297   …   1.36528   1.57361   0.289682\n",
       " 21.0256   21.552    20.4263   19.2241       2.21818   2.70645   0.976172\n",
       " 20.0163   20.2023   19.077    17.9704       0.0       1.12922   1.3251\n",
       " 20.9257   20.9739   19.8519   18.7915       1.12922   0.0       1.73842\n",
       " 20.849    21.2089   20.0823   18.9266       1.3251    1.73842   0.0"
      ]
     },
     "execution_count": 21,
     "metadata": {},
     "output_type": "execute_result"
    }
   ],
   "source": [
    "m = data_file_1[\"X\"]\n",
    "\n",
    "distances = zeros(eltype(m), size(m, 1), size(m, 1))\n",
    "function calculate_distance(coord_1, coord_2)\n",
    "    x = coord_1[1] - coord_2[1]\n",
    "    y = coord_1[2] - coord_2[2]\n",
    "    return sqrt(x*x + y*y)\n",
    "end\n",
    "\n",
    "\n",
    "for i = 1:size(m, 1)\n",
    "    for j = 1:size(m,1)\n",
    "        distances[i, j] = calculate_distance([m[i, 1], m[i, 2]], [m[j, 1], m[j, 2]])\n",
    "    end\n",
    "end\n",
    "distances"
   ]
  },
  {
   "cell_type": "code",
   "execution_count": 34,
   "id": "506028ab",
   "metadata": {},
   "outputs": [
    {
     "name": "stdout",
     "output_type": "stream",
     "text": [
      "Academic license - for non-commercial use only - expires 2022-10-13\n"
     ]
    },
    {
     "data": {
      "text/plain": [
       "25×12 Matrix{VariableRef}:\n",
       " client_loc[1,1]   client_loc[1,2]   client_loc[1,3]   …  client_loc[1,12]\n",
       " client_loc[2,1]   client_loc[2,2]   client_loc[2,3]      client_loc[2,12]\n",
       " client_loc[3,1]   client_loc[3,2]   client_loc[3,3]      client_loc[3,12]\n",
       " client_loc[4,1]   client_loc[4,2]   client_loc[4,3]      client_loc[4,12]\n",
       " client_loc[5,1]   client_loc[5,2]   client_loc[5,3]      client_loc[5,12]\n",
       " client_loc[6,1]   client_loc[6,2]   client_loc[6,3]   …  client_loc[6,12]\n",
       " client_loc[7,1]   client_loc[7,2]   client_loc[7,3]      client_loc[7,12]\n",
       " client_loc[8,1]   client_loc[8,2]   client_loc[8,3]      client_loc[8,12]\n",
       " client_loc[9,1]   client_loc[9,2]   client_loc[9,3]      client_loc[9,12]\n",
       " client_loc[10,1]  client_loc[10,2]  client_loc[10,3]     client_loc[10,12]\n",
       " client_loc[11,1]  client_loc[11,2]  client_loc[11,3]  …  client_loc[11,12]\n",
       " client_loc[12,1]  client_loc[12,2]  client_loc[12,3]     client_loc[12,12]\n",
       " client_loc[13,1]  client_loc[13,2]  client_loc[13,3]     client_loc[13,12]\n",
       " client_loc[14,1]  client_loc[14,2]  client_loc[14,3]     client_loc[14,12]\n",
       " client_loc[15,1]  client_loc[15,2]  client_loc[15,3]     client_loc[15,12]\n",
       " client_loc[16,1]  client_loc[16,2]  client_loc[16,3]  …  client_loc[16,12]\n",
       " client_loc[17,1]  client_loc[17,2]  client_loc[17,3]     client_loc[17,12]\n",
       " client_loc[18,1]  client_loc[18,2]  client_loc[18,3]     client_loc[18,12]\n",
       " client_loc[19,1]  client_loc[19,2]  client_loc[19,3]     client_loc[19,12]\n",
       " client_loc[20,1]  client_loc[20,2]  client_loc[20,3]     client_loc[20,12]\n",
       " client_loc[21,1]  client_loc[21,2]  client_loc[21,3]  …  client_loc[21,12]\n",
       " client_loc[22,1]  client_loc[22,2]  client_loc[22,3]     client_loc[22,12]\n",
       " client_loc[23,1]  client_loc[23,2]  client_loc[23,3]     client_loc[23,12]\n",
       " client_loc[24,1]  client_loc[24,2]  client_loc[24,3]     client_loc[24,12]\n",
       " client_loc[25,1]  client_loc[25,2]  client_loc[25,3]     client_loc[25,12]"
      ]
     },
     "execution_count": 34,
     "metadata": {},
     "output_type": "execute_result"
    }
   ],
   "source": [
    "depot_model = Model(Gurobi.Optimizer)\n",
    "instance_1 = Dict([(\"n_min\", 2), (\"n_max\", 8), (\"d_max\", 10)])\n",
    "\n",
    "min_depots = convert(Int32, floor(size(m,1)/instance_1[\"n_min\"]))\n",
    "\n",
    "#create the matrix of variables in compact form\n",
    "@variable(depot_model,binary = true, x[1:min_depots], base_name = \"x\")\n",
    "@variable(depot_model,binary = true, client_loc[1:size(m,1), 1:min_depots], base_name = \"client_loc\")\n",
    "\n"
   ]
  },
  {
   "cell_type": "code",
   "execution_count": null,
   "id": "fcabeb86",
   "metadata": {},
   "outputs": [],
   "source": []
  }
 ],
 "metadata": {
  "kernelspec": {
   "display_name": "Julia 1.6.3",
   "language": "julia",
   "name": "julia-1.6"
  },
  "language_info": {
   "file_extension": ".jl",
   "mimetype": "application/julia",
   "name": "julia",
   "version": "1.6.3"
  }
 },
 "nbformat": 4,
 "nbformat_minor": 5
}
