{
 "cells": [
  {
   "cell_type": "markdown",
   "metadata": {},
   "source": [
    "<center>\n",
    "<img src=\"https://cornell-tech-logos.fvcproductions.com/assets/img/logos/twisted-t/png/red.png\" width=100 />\n",
    "    <h1>ORIE 5380 / CS 5727</h1>\n",
    "    <h3>Andrea Lodi, Fall 2021</h3>\n",
    "</center>"
   ]
  },
  {
   "cell_type": "code",
   "execution_count": 1,
   "metadata": {
    "scrolled": true
   },
   "outputs": [
    {
     "name": "stderr",
     "output_type": "stream",
     "text": [
      "\u001b[32m\u001b[1m    Building\u001b[22m\u001b[39m Gurobi → `C:\\Users\\Alexr\\.julia\\scratchspaces\\44cfe95a-1eb2-52ea-b672-e2afdf69b78f\\fd27e4cda2c8aae18257eab0c1969f54010f7df0\\build.log`\n",
      "\u001b[32m\u001b[1mPrecompiling\u001b[22m\u001b[39m project...\n",
      "\u001b[32m  ✓ \u001b[39mGurobi\n",
      "  1 dependency successfully precompiled in 21 seconds (216 already precompiled, 1 skipped during auto due to previous errors)\n",
      "\u001b[32m\u001b[1m    Updating\u001b[22m\u001b[39m registry at `C:\\Users\\Alexr\\.julia\\registries\\General`\n",
      "\u001b[32m\u001b[1m    Updating\u001b[22m\u001b[39m git-repo `https://github.com/JuliaRegistries/General.git`\n",
      "\u001b[32m\u001b[1m   Resolving\u001b[22m\u001b[39m package versions...\n",
      "\u001b[32m\u001b[1m  No Changes\u001b[22m\u001b[39m to `C:\\Users\\Alexr\\.julia\\environments\\v1.6\\Project.toml`\n",
      "\u001b[32m\u001b[1m  No Changes\u001b[22m\u001b[39m to `C:\\Users\\Alexr\\.julia\\environments\\v1.6\\Manifest.toml`\n"
     ]
    },
    {
     "data": {
      "text/plain": [
       "\"Initialization done! All set :-)\""
      ]
     },
     "metadata": {},
     "output_type": "display_data"
    },
    {
     "name": "stderr",
     "output_type": "stream",
     "text": [
      "┌ Warning: Everything from AbstractPlotting.jl got moved to Makie.jl. \n",
      "│ Have a look at the README for information on how to upgrade: \n",
      "│ https://github.com/JuliaPlots/AbstractPlotting.jl\n",
      "└ @ AbstractPlotting C:\\Users\\Alexr\\.julia\\packages\\AbstractPlotting\\2A5iv\\src\\AbstractPlotting.jl:261\n"
     ]
    }
   ],
   "source": [
    "#Using smth means: pre-compile and load smth as a package.\n",
    "using Pkg;\n",
    "#Set the Gurobi path\n",
    "ENV[\"GUROBI_HOME\"] = \"C:/gurobi912/win64\"\n",
    "#For first timers (comment after): compile Gurobi with the given path\n",
    "Pkg.build(\"Gurobi\")\n",
    "#Add the packages that may not be installed.\n",
    "Pkg.add([\"Latexify\", \"Polyhedra\", \"Plots\", \"Makie\", \"CDDLib\", \"JuMP\", \"Gurobi\", \"AbstractPlotting\"])\n",
    "#Load the packages\n",
    "using JuMP, Latexify, Gurobi, LinearAlgebra, Polyhedra, CDDLib, Plots, SparseArrays, Makie, AbstractPlotting\n",
    "\n",
    "display(\"Initialization done! All set :-)\")"
   ]
  },
  {
   "cell_type": "markdown",
   "metadata": {},
   "source": [
    "# Chapter 9 First LP"
   ]
  },
  {
   "cell_type": "code",
   "execution_count": 2,
   "metadata": {
    "scrolled": true
   },
   "outputs": [
    {
     "data": {
      "text/latex": [
       "$$ \\begin{aligned}\n",
       "\\max\\quad & 2400 xm + 3200 xs\\\\\n",
       "\\text{Subject to} \\quad & 100 xm + 40 xs \\leq 10000.0\\\\\n",
       " & 200 xm + 400 xs \\leq 60000.0\\\\\n",
       " & xm \\geq 0.0\\\\\n",
       " & xs \\geq 0.0\\\\\n",
       " & xs \\leq 140.0\\\\\n",
       "\\end{aligned} $$"
      ],
      "text/plain": [
       "$$ \\begin{aligned}\n",
       "\\max\\quad & 2400 xm + 3200 xs\\\\\n",
       "\\text{Subject to} \\quad & 100 xm + 40 xs \\leq 10000.0\\\\\n",
       " & 200 xm + 400 xs \\leq 60000.0\\\\\n",
       " & xm \\geq 0.0\\\\\n",
       " & xs \\geq 0.0\\\\\n",
       " & xs \\leq 140.0\\\\\n",
       "\\end{aligned} $$"
      ]
     },
     "metadata": {},
     "output_type": "display_data"
    },
    {
     "name": "stdout",
     "output_type": "stream",
     "text": [
      "Academic license - for non-commercial use only\r\n"
     ]
    }
   ],
   "source": [
    "#Building the JuMP model\n",
    "using JuMP, Gurobi\n",
    "\n",
    "#Initialize the model with a given optimizer, say Gurobi\n",
    "cloudExample = Model(Gurobi.Optimizer)\n",
    "\n",
    "#Turn off verbose output\n",
    "set_optimizer_attribute(cloudExample, \"OutputFlag\", 0)\n",
    "\n",
    "@variable(cloudExample, xm, integer = false, base_name = \"xm\", lower_bound = 0.0) \n",
    "#@variable(cloudExample, xm >= 0)\n",
    "\n",
    "#xs = @variable(cloudExample, base_name = \"xs\", lower_bound = 0.0, upper_bound = 140.0)\n",
    "@variable(cloudExample,0 <= xs <= 140)\n",
    "\n",
    "#Set the objective. The arguments are the model object, the objective sense and its expression.\n",
    "@objective(cloudExample, Max, 2400 * xm + 3200 * xs)\n",
    "\n",
    "#Let's build the first constraint with an expression\n",
    "#Empty expression\n",
    "constraint_expr = @expression(cloudExample, 0)\n",
    "constraint_expr = constraint_expr +  100 * xm\n",
    "constraint_expr += 40 * xs\n",
    "\n",
    "#Add the constraint from the expression. The arguments are model, expression LHS, sense and RHS\n",
    "@constraint(cloudExample, firstConst, constraint_expr <= 10000)\n",
    "\n",
    "#Let's build the second constraint directly as a constraint\n",
    "@constraint(cloudExample, secondConst, 200 * xm + 400 * xs <= 60000)\n",
    "\n",
    "#Let's print the model\n",
    "display(latex_formulation(cloudExample))\n",
    "\n",
    "#Let's write the model to file\n",
    "write_to_file(cloudExample, \"CloudExample.lp\")"
   ]
  },
  {
   "cell_type": "code",
   "execution_count": 3,
   "metadata": {},
   "outputs": [
    {
     "name": "stdout",
     "output_type": "stream",
     "text": [
      "Academic license - for non-commercial use only\n",
      "Status = Model was solved to optimality (subject to tolerances), and an optimal solution is available.\n",
      "Status = OPTIMAL\n",
      "Optimal Objective Function value: 520000.0\n",
      "Optimal Solutions:\n",
      "xm = 50.0\n",
      "xs = 125.0\n"
     ]
    }
   ],
   "source": [
    "#optimize the model\n",
    "optimize!(cloudExample)\n",
    "\n",
    "#get the status of the optimization\n",
    "#either\n",
    "println(\"Status = \", raw_status(cloudExample))\n",
    "#or \n",
    "ts = termination_status(cloudExample)\n",
    "println(\"Status = $ts\")\n",
    "\n",
    "#print the solution: value and variables\n",
    "println(\"Optimal Objective Function value: \", objective_value(cloudExample))\n",
    "println(\"Optimal Solutions:\")\n",
    "println(\"xm = \", value(xm))\n",
    "println(\"xs = \", value(xs))\n"
   ]
  },
  {
   "cell_type": "markdown",
   "metadata": {},
   "source": [
    "# Chapter 9 Second LP"
   ]
  },
  {
   "cell_type": "code",
   "execution_count": 4,
   "metadata": {},
   "outputs": [
    {
     "name": "stdout",
     "output_type": "stream",
     "text": [
      "There are 3 technicians and 3 jobs."
     ]
    }
   ],
   "source": [
    "#Problem data\n",
    "#We initialize the optimization's problem data\n",
    "\n",
    "C=[2.0 4.0 5.0;\n",
    "   3.0 6.0 8.0; \n",
    "   8.0 4.0 9.0]::Matrix{Float64}\n",
    "\n",
    "#get the size of the matrix\n",
    "noTechs = size(C,1)\n",
    "noJobs = size(C,2)\n",
    "\n",
    "#print some statistics\n",
    "print(\"There are \", noTechs, \" technicians and \", noJobs, \" jobs.\")"
   ]
  },
  {
   "cell_type": "code",
   "execution_count": 5,
   "metadata": {},
   "outputs": [
    {
     "data": {
      "text/latex": [
       "$$ \\begin{aligned}\n",
       "\\max\\quad & 2 x_{1,1} + 3 x_{2,1} + 8 x_{3,1} + 4 x_{1,2} + 6 x_{2,2} + 4 x_{3,2} + 5 x_{1,3} + 8 x_{2,3} + 9 x_{3,3}\\\\\n",
       "\\text{Subject to} \\quad & x_{1,1} + x_{1,2} + x_{1,3} = 1.0\\\\\n",
       " & x_{2,1} + x_{2,2} + x_{2,3} = 1.0\\\\\n",
       " & x_{3,1} + x_{3,2} + x_{3,3} = 1.0\\\\\n",
       " & x_{1,1} + x_{2,1} + x_{3,1} = 1.0\\\\\n",
       " & x_{1,2} + x_{2,2} + x_{3,2} = 1.0\\\\\n",
       " & x_{1,3} + x_{2,3} + x_{3,3} = 1.0\\\\\n",
       " & x_{1,1} \\geq 0.0\\\\\n",
       " & x_{2,1} \\geq 0.0\\\\\n",
       " & x_{3,1} \\geq 0.0\\\\\n",
       " & x_{1,2} \\geq 0.0\\\\\n",
       " & x_{2,2} \\geq 0.0\\\\\n",
       " & x_{3,2} \\geq 0.0\\\\\n",
       " & x_{1,3} \\geq 0.0\\\\\n",
       " & x_{2,3} \\geq 0.0\\\\\n",
       " & x_{3,3} \\geq 0.0\\\\\n",
       "\\end{aligned} $$"
      ],
      "text/plain": [
       "$$ \\begin{aligned}\n",
       "\\max\\quad & 2 x_{1,1} + 3 x_{2,1} + 8 x_{3,1} + 4 x_{1,2} + 6 x_{2,2} + 4 x_{3,2} + 5 x_{1,3} + 8 x_{2,3} + 9 x_{3,3}\\\\\n",
       "\\text{Subject to} \\quad & x_{1,1} + x_{1,2} + x_{1,3} = 1.0\\\\\n",
       " & x_{2,1} + x_{2,2} + x_{2,3} = 1.0\\\\\n",
       " & x_{3,1} + x_{3,2} + x_{3,3} = 1.0\\\\\n",
       " & x_{1,1} + x_{2,1} + x_{3,1} = 1.0\\\\\n",
       " & x_{1,2} + x_{2,2} + x_{3,2} = 1.0\\\\\n",
       " & x_{1,3} + x_{2,3} + x_{3,3} = 1.0\\\\\n",
       " & x_{1,1} \\geq 0.0\\\\\n",
       " & x_{2,1} \\geq 0.0\\\\\n",
       " & x_{3,1} \\geq 0.0\\\\\n",
       " & x_{1,2} \\geq 0.0\\\\\n",
       " & x_{2,2} \\geq 0.0\\\\\n",
       " & x_{3,2} \\geq 0.0\\\\\n",
       " & x_{1,3} \\geq 0.0\\\\\n",
       " & x_{2,3} \\geq 0.0\\\\\n",
       " & x_{3,3} \\geq 0.0\\\\\n",
       "\\end{aligned} $$"
      ]
     },
     "metadata": {},
     "output_type": "display_data"
    },
    {
     "name": "stdout",
     "output_type": "stream",
     "text": [
      "Academic license - for non-commercial use only\r\n"
     ]
    }
   ],
   "source": [
    "#Building the JuMP model\n",
    "using JuMP, Gurobi\n",
    "\n",
    "#Initialize the model with a given optimizer, say Gurobi\n",
    "assignmentExample = Model(Gurobi.Optimizer)\n",
    "\n",
    "#set_optimizer_attribute(assignmentExample, \"OutputFlag\", 0)\n",
    "\n",
    "#create the matrix of variables in compact form\n",
    "@variable(assignmentExample, x[1:noTechs,1:noJobs], base_name = \"x\", lower_bound = 0.0)\n",
    "\n",
    "#Set the objective. The arguments are the model object, the objective sense and its expression.\n",
    "#@objective(assignmentExample, Max, dot(C, x))\n",
    "@objective(assignmentExample, Max, sum(sum(C[i,j] * x[i,j] for i in 1:noTechs) for j in 1:noJobs))\n",
    "\n",
    "#set constraints for the technicians\n",
    "for i = 1:noTechs\n",
    "    constraint_expr = @expression(assignmentExample, 0)\n",
    "    for j = 1:noJobs\n",
    "        constraint_expr += x[i,j]\n",
    "    end\n",
    "    #Add the constraint from the expression. The arguments are model, expression LHS, sense and RHS\n",
    "    @constraint(assignmentExample, constraint_expr == 1)\n",
    "end\n",
    "\n",
    "#set constraints for the jobs\n",
    "for j = 1:noJobs\n",
    "    @constraint(assignmentExample, sum(x[i,j] for i in 1:noTechs) == 1)\n",
    "end\n",
    "\n",
    "#Let's print the model\n",
    "display(latex_formulation(assignmentExample))\n",
    "\n",
    "#Let's write the model to file\n",
    "write_to_file(assignmentExample, \"assignmentExample.lp\")\n",
    "    "
   ]
  },
  {
   "cell_type": "code",
   "execution_count": 6,
   "metadata": {},
   "outputs": [
    {
     "name": "stdout",
     "output_type": "stream",
     "text": [
      "Academic license - for non-commercial use only\n",
      "Gurobi Optimizer version 9.0.3 build v9.0.3rc0 (win64)\n",
      "Optimize a model with 6 rows, 9 columns and 18 nonzeros\n",
      "Model fingerprint: 0x62fe8bb3\n",
      "Coefficient statistics:\n",
      "  Matrix range     [1e+00, 1e+00]\n",
      "  Objective range  [2e+00, 9e+00]\n",
      "  Bounds range     [0e+00, 0e+00]\n",
      "  RHS range        [1e+00, 1e+00]\n",
      "Presolve time: 0.02s\n",
      "Presolved: 6 rows, 9 columns, 18 nonzeros\n",
      "\n",
      "Iteration    Objective       Primal Inf.    Dual Inf.      Time\n",
      "       0    4.9000000e+31   1.800000e+31   4.900000e+01      0s\n",
      "       5    2.0000000e+01   0.000000e+00   0.000000e+00      0s\n",
      "\n",
      "Solved in 5 iterations and 0.02 seconds\n",
      "Optimal objective  2.000000000e+01\n",
      "Status = Model was solved to optimality (subject to tolerances), and an optimal solution is available.\n",
      "Status = OPTIMAL\n",
      "Optimal Objective Function value: 20.0\n",
      "Optimal Solutions:\n",
      "x = [0.0 1.0 0.0; 0.0 0.0 1.0; 1.0 0.0 0.0]\n"
     ]
    }
   ],
   "source": [
    "#optimize the model\n",
    "optimize!(assignmentExample)\n",
    "\n",
    "#get the status of the optimization\n",
    "#either\n",
    "println(\"Status = \", raw_status(assignmentExample))\n",
    "#or \n",
    "ts = termination_status(assignmentExample)\n",
    "println(\"Status = $ts\")\n",
    "\n",
    "#print the solution: value and variables\n",
    "println(\"Optimal Objective Function value: \", objective_value(assignmentExample))\n",
    "println(\"Optimal Solutions:\")\n",
    "println(\"x = \",value.(x))"
   ]
  },
  {
   "cell_type": "code",
   "execution_count": null,
   "metadata": {},
   "outputs": [],
   "source": []
  }
 ],
 "metadata": {
  "@webio": {
   "lastCommId": "5ab8e2f01edb4bae85c9c173e6164d3d",
   "lastKernelId": "1e059bd3-800a-4f90-8660-ec8bfe751d42"
  },
  "kernelspec": {
   "display_name": "Julia 1.6.3",
   "language": "julia",
   "name": "julia-1.6"
  },
  "language_info": {
   "file_extension": ".jl",
   "mimetype": "application/julia",
   "name": "julia",
   "version": "1.6.3"
  },
  "widgets": {
   "application/vnd.jupyter.widget-state+json": {
    "state": {},
    "version_major": 2,
    "version_minor": 0
   }
  }
 },
 "nbformat": 4,
 "nbformat_minor": 4
}
