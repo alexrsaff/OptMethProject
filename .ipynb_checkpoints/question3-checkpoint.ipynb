{
 "cells": [
  {
   "cell_type": "code",
   "execution_count": 4,
   "id": "48597b24",
   "metadata": {},
   "outputs": [
    {
     "name": "stderr",
     "output_type": "stream",
     "text": [
      "\u001b[32m\u001b[1m   Resolving\u001b[22m\u001b[39m package versions...\n",
      "\u001b[32m\u001b[1m    Updating\u001b[22m\u001b[39m `~/.julia/environments/v1.6/Project.toml`\n",
      " \u001b[90m [f67ccb44] \u001b[39m\u001b[92m+ HDF5 v0.15.7\u001b[39m\n",
      "\u001b[32m\u001b[1m  No Changes\u001b[22m\u001b[39m to `~/.julia/environments/v1.6/Manifest.toml`\n"
     ]
    },
    {
     "data": {
      "text/plain": [
       "\"Initialization done! All set :-)\""
      ]
     },
     "metadata": {},
     "output_type": "display_data"
    }
   ],
   "source": [
    "#Using smth means: pre-compile and load smth as a package.\n",
    "using Pkg;\n",
    "#Set the Gurobi path\n",
    "ENV[\"GUROBI_HOME\"] = \"/Library/gurobi912/macos64/\"\n",
    "#For first timers (comment after): compile Gurobi with the given path\n",
    "#Pkg.build(\"Gurobi\")\n",
    "#Add the packages that may not be installed.\n",
    "Pkg.add([\"Latexify\", \"Polyhedra\", \"Plots\", \"Makie\", \"CDDLib\", \"JuMP\", \"Gurobi\", \"AbstractPlotting\", \"JLD\", \"HDF5\"])\n",
    "#Load the packages\n",
    "using JuMP, Latexify, Gurobi, LinearAlgebra, Polyhedra, CDDLib, Plots, SparseArrays, Makie, AbstractPlotting, JLD, HDF5\n",
    "\n",
    "display(\"Initialization done! All set :-)\")"
   ]
  },
  {
   "cell_type": "code",
   "execution_count": 5,
   "id": "61b89fd0",
   "metadata": {},
   "outputs": [
    {
     "data": {
      "text/plain": [
       "3×3 Matrix{Float64}:\n",
       " 2.0  4.0  5.0\n",
       " 3.0  6.0  8.0\n",
       " 8.0  4.0  9.0"
      ]
     },
     "execution_count": 5,
     "metadata": {},
     "output_type": "execute_result"
    }
   ],
   "source": [
    "C=[2.0 4.0 5.0;\n",
    "   3.0 6.0 8.0; \n",
    "   8.0 4.0 9.0]::Matrix{Float64}"
   ]
  },
  {
   "cell_type": "code",
   "execution_count": 11,
   "id": "90e90264",
   "metadata": {},
   "outputs": [
    {
     "data": {
      "text/plain": [
       "Dict{String, Any} with 1 entry:\n",
       "  \"X\" => [-0.0222192 5.01421; -10.9658 -0.967855; … ; -0.0278013 2.00842; -1.94…"
      ]
     },
     "execution_count": 11,
     "metadata": {},
     "output_type": "execute_result"
    }
   ],
   "source": [
    "data_file_1 = load(\"X1-3.jld\") \n",
    "data_file_2 = load(\"X2-2.jld\")\n",
    "data_file_3 = load(\"X3-2.jld\")"
   ]
  },
  {
   "cell_type": "code",
   "execution_count": 13,
   "id": "9747a488",
   "metadata": {},
   "outputs": [
    {
     "data": {
      "text/plain": [
       "25×2 Matrix{Float64}:\n",
       " -9.31431     21.8525\n",
       " -5.66901     22.8257\n",
       " -5.58994     21.7019\n",
       " -6.48529     20.4481\n",
       " -4.64804    -13.5705\n",
       " -6.92318    -13.4546\n",
       " -4.92195    -13.169\n",
       " -6.18895    -15.1609\n",
       " -6.38359    -14.1112\n",
       " -4.83052    -13.3698\n",
       " -5.54885    -13.7464\n",
       " -6.03902    -13.1761\n",
       " -9.36696    -13.6319\n",
       " -1.01326     -5.99053\n",
       "  0.0875803   -4.8667\n",
       "  1.34522     -5.53625\n",
       "  1.02764     -6.47446\n",
       "  0.180654    -4.69903\n",
       "  0.968761    -4.01118\n",
       "  2.14521     -6.54907\n",
       " -3.81989      1.50499\n",
       " -4.94545      1.28581\n",
       " -3.29144      2.76385\n",
       " -2.36855      2.11314\n",
       " -4.05179      1.67859"
      ]
     },
     "execution_count": 13,
     "metadata": {},
     "output_type": "execute_result"
    }
   ],
   "source": [
    "data_file_1[\"X\"]"
   ]
  },
  {
   "cell_type": "code",
   "execution_count": null,
   "id": "52bb4330",
   "metadata": {},
   "outputs": [],
   "source": [
    "function calculate_distance()\n",
    "    println(\"this is a function\")\n",
    "end"
   ]
  }
 ],
 "metadata": {
  "kernelspec": {
   "display_name": "Julia 1.6.3",
   "language": "julia",
   "name": "julia-1.6"
  },
  "language_info": {
   "file_extension": ".jl",
   "mimetype": "application/julia",
   "name": "julia",
   "version": "1.6.3"
  }
 },
 "nbformat": 4,
 "nbformat_minor": 5
}
